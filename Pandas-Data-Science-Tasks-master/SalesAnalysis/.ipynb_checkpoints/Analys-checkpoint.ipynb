{
 "cells": [
  {
   "cell_type": "code",
   "execution_count": 1,
   "id": "95ddb46a-4405-4c04-93cf-b1b260da99eb",
   "metadata": {
    "tags": []
   },
   "outputs": [],
   "source": [
    "import pandas as pd\n",
    "import numpy as np\n",
    "import matplotlib.pyplot as plt\n",
    "import seaborn as sns\n",
    "import re\n",
    "import os"
   ]
  },
  {
   "cell_type": "code",
   "execution_count": 2,
   "id": "28ff4aa0-dec5-4f4a-bf02-ebe51e3b1e7e",
   "metadata": {},
   "outputs": [
    {
     "name": "stdout",
     "output_type": "stream",
     "text": [
      "['Sales_April_2019.csv', 'Sales_August_2019.csv', 'Sales_December_2019.csv', 'Sales_February_2019.csv', 'Sales_January_2019.csv', 'Sales_July_2019.csv', 'Sales_June_2019.csv', 'Sales_March_2019.csv', 'Sales_May_2019.csv', 'Sales_November_2019.csv', 'Sales_October_2019.csv', 'Sales_September_2019.csv']\n"
     ]
    }
   ],
   "source": [
    "print(os.listdir(\"Sales_Data\"))"
   ]
  },
  {
   "cell_type": "code",
   "execution_count": null,
   "id": "2d1b1468-bc7c-451e-a99f-87d102a785a2",
   "metadata": {},
   "outputs": [],
   "source": [
    "\"\"\"\n",
    "По сути, мне необходимо примерно понять последовательность по которой мне нужно будет работать\n",
    "и отработать за неделю последовательность, в которой я смогу спокойно ориентироваться. Так-же\n",
    "работать именно с крупными датасетами научиться, дабы не терять слишком много времени, как в прошлый\n",
    "раз, в ожидании обработки данных, а сразу тыкнуть все приколы и понимать казуальность в датасете.\n",
    "\n",
    "Как понимаю, если тебе требуется как-то изменять данные в датасете - следует себя по рукам шлёпнуть\n",
    "и поискать методы по обработки данных, что уже у тебя есть.\n",
    "\n",
    "Т.е. вывести методику по работе, а так-же навыки по работе с крупными датасетами.\n",
    "\n",
    "Так-же нужно пересмотреть свои работы, а так-же немного по рефлексировать над тем, что было в них \n",
    "написано.\n",
    "\n",
    "Так-же отработать взаимодействие с mongobd(либо postgress) на Linux\n",
    "Подучиться коннектиться через консоль к гиту и с машины делать репозиторий на гит аккаунте.\n",
    "\n",
    "\"\"'"
   ]
  },
  {
   "cell_type": "code",
   "execution_count": 3,
   "id": "e166917f-239a-4d89-a092-f6fcea62b41b",
   "metadata": {
    "tags": []
   },
   "outputs": [],
   "source": [
    "try:\n",
    "    df = pd.read_csv(\"df.csv\")\n",
    "except:\n",
    "    print('makin` stuff')\n",
    "    path = \"Sales_Data\"\n",
    "    files = os.listdir(path)\n",
    "    df = pd.DataFrame()\n",
    "\n",
    "    for file in files:\n",
    "        current_data = pd.read_csv(path+\"/\"+file ,  encoding = \"ISO-8859-1\")  \n",
    "        df = pd.concat([df,current_data])\n",
    "\n",
    "    df.to_csv(\"df.csv\", index=False)"
   ]
  },
  {
   "cell_type": "code",
   "execution_count": 4,
   "id": "0f1dc0d2-5fe9-4048-8d22-ddad1b65189b",
   "metadata": {
    "tags": []
   },
   "outputs": [
    {
     "name": "stdout",
     "output_type": "stream",
     "text": [
      "<class 'pandas.core.frame.DataFrame'>\n",
      "RangeIndex: 186850 entries, 0 to 186849\n",
      "Data columns (total 6 columns):\n",
      " #   Column            Non-Null Count   Dtype \n",
      "---  ------            --------------   ----- \n",
      " 0   Order ID          186305 non-null  object\n",
      " 1   Product           186305 non-null  object\n",
      " 2   Quantity Ordered  186305 non-null  object\n",
      " 3   Price Each        186305 non-null  object\n",
      " 4   Order Date        186305 non-null  object\n",
      " 5   Purchase Address  186305 non-null  object\n",
      "dtypes: object(6)\n",
      "memory usage: 8.6+ MB\n"
     ]
    }
   ],
   "source": [
    "df.info()"
   ]
  },
  {
   "cell_type": "code",
   "execution_count": 5,
   "id": "66f1fa04-c323-414a-8e4b-d309c53b92ac",
   "metadata": {
    "tags": []
   },
   "outputs": [
    {
     "data": {
      "text/plain": [
       "Order ID            545\n",
       "Product             545\n",
       "Quantity Ordered    545\n",
       "Price Each          545\n",
       "Order Date          545\n",
       "Purchase Address    545\n",
       "dtype: int64"
      ]
     },
     "execution_count": 5,
     "metadata": {},
     "output_type": "execute_result"
    }
   ],
   "source": [
    "df.isna().sum(axis=0)"
   ]
  },
  {
   "cell_type": "code",
   "execution_count": 6,
   "id": "a99f5c6b-bd04-420b-adc2-bd6d512f6f27",
   "metadata": {
    "tags": []
   },
   "outputs": [],
   "source": [
    "df = df[~df.isnull().any(axis=1)]\n",
    "df = df[df['Order Date'].str[0:2] != \"Or\"]\n",
    "df.reset_index(drop=True, inplace=True)"
   ]
  },
  {
   "cell_type": "code",
   "execution_count": 7,
   "id": "97d2173c-81ac-4b42-aeca-224375355372",
   "metadata": {
    "tags": []
   },
   "outputs": [
    {
     "data": {
      "text/plain": [
       "Order ID            0\n",
       "Product             0\n",
       "Quantity Ordered    0\n",
       "Price Each          0\n",
       "Order Date          0\n",
       "Purchase Address    0\n",
       "dtype: int64"
      ]
     },
     "execution_count": 7,
     "metadata": {},
     "output_type": "execute_result"
    }
   ],
   "source": [
    "df.isna().sum(axis=0)"
   ]
  },
  {
   "cell_type": "code",
   "execution_count": 8,
   "id": "27118f4e-1243-44f4-92b3-6fa642f17270",
   "metadata": {
    "tags": []
   },
   "outputs": [
    {
     "data": {
      "text/html": [
       "<div>\n",
       "<style scoped>\n",
       "    .dataframe tbody tr th:only-of-type {\n",
       "        vertical-align: middle;\n",
       "    }\n",
       "\n",
       "    .dataframe tbody tr th {\n",
       "        vertical-align: top;\n",
       "    }\n",
       "\n",
       "    .dataframe thead th {\n",
       "        text-align: right;\n",
       "    }\n",
       "</style>\n",
       "<table border=\"1\" class=\"dataframe\">\n",
       "  <thead>\n",
       "    <tr style=\"text-align: right;\">\n",
       "      <th></th>\n",
       "      <th>Order ID</th>\n",
       "      <th>Product</th>\n",
       "      <th>Quantity Ordered</th>\n",
       "      <th>Price Each</th>\n",
       "      <th>Order Date</th>\n",
       "      <th>Purchase Address</th>\n",
       "    </tr>\n",
       "  </thead>\n",
       "  <tbody>\n",
       "    <tr>\n",
       "      <th>0</th>\n",
       "      <td>176558</td>\n",
       "      <td>USB-C Charging Cable</td>\n",
       "      <td>2</td>\n",
       "      <td>11.95</td>\n",
       "      <td>04/19/19 08:46</td>\n",
       "      <td>917 1st St, Dallas, TX 75001</td>\n",
       "    </tr>\n",
       "    <tr>\n",
       "      <th>1</th>\n",
       "      <td>176559</td>\n",
       "      <td>Bose SoundSport Headphones</td>\n",
       "      <td>1</td>\n",
       "      <td>99.99</td>\n",
       "      <td>04/07/19 22:30</td>\n",
       "      <td>682 Chestnut St, Boston, MA 02215</td>\n",
       "    </tr>\n",
       "    <tr>\n",
       "      <th>2</th>\n",
       "      <td>176560</td>\n",
       "      <td>Google Phone</td>\n",
       "      <td>1</td>\n",
       "      <td>600</td>\n",
       "      <td>04/12/19 14:38</td>\n",
       "      <td>669 Spruce St, Los Angeles, CA 90001</td>\n",
       "    </tr>\n",
       "    <tr>\n",
       "      <th>3</th>\n",
       "      <td>176560</td>\n",
       "      <td>Wired Headphones</td>\n",
       "      <td>1</td>\n",
       "      <td>11.99</td>\n",
       "      <td>04/12/19 14:38</td>\n",
       "      <td>669 Spruce St, Los Angeles, CA 90001</td>\n",
       "    </tr>\n",
       "    <tr>\n",
       "      <th>4</th>\n",
       "      <td>176561</td>\n",
       "      <td>Wired Headphones</td>\n",
       "      <td>1</td>\n",
       "      <td>11.99</td>\n",
       "      <td>04/30/19 09:27</td>\n",
       "      <td>333 8th St, Los Angeles, CA 90001</td>\n",
       "    </tr>\n",
       "  </tbody>\n",
       "</table>\n",
       "</div>"
      ],
      "text/plain": [
       "  Order ID                     Product Quantity Ordered Price Each  \\\n",
       "0   176558        USB-C Charging Cable                2      11.95   \n",
       "1   176559  Bose SoundSport Headphones                1      99.99   \n",
       "2   176560                Google Phone                1        600   \n",
       "3   176560            Wired Headphones                1      11.99   \n",
       "4   176561            Wired Headphones                1      11.99   \n",
       "\n",
       "       Order Date                      Purchase Address  \n",
       "0  04/19/19 08:46          917 1st St, Dallas, TX 75001  \n",
       "1  04/07/19 22:30     682 Chestnut St, Boston, MA 02215  \n",
       "2  04/12/19 14:38  669 Spruce St, Los Angeles, CA 90001  \n",
       "3  04/12/19 14:38  669 Spruce St, Los Angeles, CA 90001  \n",
       "4  04/30/19 09:27     333 8th St, Los Angeles, CA 90001  "
      ]
     },
     "execution_count": 8,
     "metadata": {},
     "output_type": "execute_result"
    }
   ],
   "source": [
    "df.head()"
   ]
  },
  {
   "cell_type": "code",
   "execution_count": 9,
   "id": "402a56fb-bc68-4554-b9ea-0c23f9915f24",
   "metadata": {
    "tags": []
   },
   "outputs": [
    {
     "data": {
      "text/html": [
       "<div>\n",
       "<style scoped>\n",
       "    .dataframe tbody tr th:only-of-type {\n",
       "        vertical-align: middle;\n",
       "    }\n",
       "\n",
       "    .dataframe tbody tr th {\n",
       "        vertical-align: top;\n",
       "    }\n",
       "\n",
       "    .dataframe thead th {\n",
       "        text-align: right;\n",
       "    }\n",
       "</style>\n",
       "<table border=\"1\" class=\"dataframe\">\n",
       "  <thead>\n",
       "    <tr style=\"text-align: right;\">\n",
       "      <th></th>\n",
       "      <th>Order ID</th>\n",
       "      <th>Product</th>\n",
       "      <th>Quantity Ordered</th>\n",
       "      <th>Price Each</th>\n",
       "      <th>Order Date</th>\n",
       "      <th>Purchase Address</th>\n",
       "    </tr>\n",
       "  </thead>\n",
       "  <tbody>\n",
       "    <tr>\n",
       "      <th>0</th>\n",
       "      <td>176558</td>\n",
       "      <td>USB-C Charging Cable</td>\n",
       "      <td>2</td>\n",
       "      <td>11.95</td>\n",
       "      <td>04/19/19 08:46</td>\n",
       "      <td>917 1st St, Dallas, TX 75001</td>\n",
       "    </tr>\n",
       "    <tr>\n",
       "      <th>1</th>\n",
       "      <td>176559</td>\n",
       "      <td>Bose SoundSport Headphones</td>\n",
       "      <td>1</td>\n",
       "      <td>99.99</td>\n",
       "      <td>04/07/19 22:30</td>\n",
       "      <td>682 Chestnut St, Boston, MA 02215</td>\n",
       "    </tr>\n",
       "    <tr>\n",
       "      <th>2</th>\n",
       "      <td>176560</td>\n",
       "      <td>Google Phone</td>\n",
       "      <td>1</td>\n",
       "      <td>600</td>\n",
       "      <td>04/12/19 14:38</td>\n",
       "      <td>669 Spruce St, Los Angeles, CA 90001</td>\n",
       "    </tr>\n",
       "    <tr>\n",
       "      <th>3</th>\n",
       "      <td>176560</td>\n",
       "      <td>Wired Headphones</td>\n",
       "      <td>1</td>\n",
       "      <td>11.99</td>\n",
       "      <td>04/12/19 14:38</td>\n",
       "      <td>669 Spruce St, Los Angeles, CA 90001</td>\n",
       "    </tr>\n",
       "    <tr>\n",
       "      <th>4</th>\n",
       "      <td>176561</td>\n",
       "      <td>Wired Headphones</td>\n",
       "      <td>1</td>\n",
       "      <td>11.99</td>\n",
       "      <td>04/30/19 09:27</td>\n",
       "      <td>333 8th St, Los Angeles, CA 90001</td>\n",
       "    </tr>\n",
       "  </tbody>\n",
       "</table>\n",
       "</div>"
      ],
      "text/plain": [
       "  Order ID                     Product Quantity Ordered Price Each  \\\n",
       "0   176558        USB-C Charging Cable                2      11.95   \n",
       "1   176559  Bose SoundSport Headphones                1      99.99   \n",
       "2   176560                Google Phone                1        600   \n",
       "3   176560            Wired Headphones                1      11.99   \n",
       "4   176561            Wired Headphones                1      11.99   \n",
       "\n",
       "       Order Date                      Purchase Address  \n",
       "0  04/19/19 08:46          917 1st St, Dallas, TX 75001  \n",
       "1  04/07/19 22:30     682 Chestnut St, Boston, MA 02215  \n",
       "2  04/12/19 14:38  669 Spruce St, Los Angeles, CA 90001  \n",
       "3  04/12/19 14:38  669 Spruce St, Los Angeles, CA 90001  \n",
       "4  04/30/19 09:27     333 8th St, Los Angeles, CA 90001  "
      ]
     },
     "execution_count": 9,
     "metadata": {},
     "output_type": "execute_result"
    }
   ],
   "source": [
    "df.head()"
   ]
  },
  {
   "cell_type": "code",
   "execution_count": 1,
   "id": "fe72ac33-ee82-4aa7-be07-1aab95c85df1",
   "metadata": {
    "tags": []
   },
   "outputs": [
    {
     "data": {
      "text/plain": [
       "'\\nТ.е. я мог не ждать пол ебанных часа, чтобы просто перехуярить даты в... Даты, а просто по стрингу\\nотсортировать... \\n'"
      ]
     },
     "execution_count": 1,
     "metadata": {},
     "output_type": "execute_result"
    }
   ],
   "source": [
    "\"\"\"\n",
    "Т.е. я мог не ждать пол ебанных часа, чтобы просто перехуярить даты в... Даты, а просто по стрингу\n",
    "отсортировать... \n",
    "\"\"\"\n",
    "#a = df1.loc[(df1['Order Date'] >= '04/01/19') & (df1['Order Date'] < '04/31/19')]"
   ]
  },
  {
   "cell_type": "code",
   "execution_count": 11,
   "id": "d2c38866-4eca-4e3b-8056-064c2161c0cf",
   "metadata": {
    "tags": []
   },
   "outputs": [],
   "source": [
    "#df[df['Order Date'].astype(str).str.contains('^01',flags = re.I, regex=True)].head(100)"
   ]
  },
  {
   "cell_type": "code",
   "execution_count": 12,
   "id": "5b2f8722-a130-4008-b035-e19d4ad33477",
   "metadata": {
    "tags": []
   },
   "outputs": [],
   "source": [
    "#a.info()"
   ]
  },
  {
   "cell_type": "code",
   "execution_count": 13,
   "id": "2f4e2053-b439-4aa3-9402-36f900f2a89f",
   "metadata": {
    "tags": []
   },
   "outputs": [],
   "source": [
    "df['Quantity Ordered'] = pd.to_numeric(df['Quantity Ordered'])\n",
    "df['Price Each'] = pd.to_numeric(df['Price Each'])\n"
   ]
  },
  {
   "cell_type": "code",
   "execution_count": 14,
   "id": "a75071b5-d866-400b-b8db-2d19d7effc75",
   "metadata": {
    "tags": []
   },
   "outputs": [],
   "source": [
    "df['Sales'] = df['Quantity Ordered'] * df['Price Each']"
   ]
  },
  {
   "cell_type": "code",
   "execution_count": 15,
   "id": "c702c087-72fd-4b79-a604-a8c44e2a2b4f",
   "metadata": {
    "tags": []
   },
   "outputs": [],
   "source": [
    "profit = list()"
   ]
  },
  {
   "cell_type": "code",
   "execution_count": 16,
   "id": "f964b00e-29c0-455b-80d4-417e81bd9e7d",
   "metadata": {
    "tags": []
   },
   "outputs": [],
   "source": [
    "stuff = np.arange(1,13)\n",
    "for i in stuff:\n",
    "    if i <= 9:\n",
    "        month = str(0) + str(i)\n",
    "    else:\n",
    "        month = str(i)\n",
    "    current_month = df.loc[(df['Order Date'] >= f'{month}/01/19') &\n",
    "                           (df['Order Date'] < f'{month}/32/19')].copy()\n",
    "    profit.append(sum(current_month['Sales']))"
   ]
  },
  {
   "cell_type": "code",
   "execution_count": 17,
   "id": "2e0bb8f4-a73b-4b25-9354-1dba29cb5977",
   "metadata": {
    "tags": []
   },
   "outputs": [
    {
     "name": "stdout",
     "output_type": "stream",
     "text": [
      "[1822256.729999914, 2202022.4199999636, 2807100.3800003603, 3390670.240000704, 3152606.750000553, 2577802.260000178, 2647775.7600002377, 2244467.8799999943, 2097560.129999891, 3736726.8800009703, 3199603.200000589, 4613443.340001534]\n"
     ]
    }
   ],
   "source": [
    "print(profit)"
   ]
  },
  {
   "cell_type": "code",
   "execution_count": 18,
   "id": "cb12f49b-5e34-4baa-8ff0-a276444b5203",
   "metadata": {
    "tags": []
   },
   "outputs": [],
   "source": [
    "max_num = max(profit)"
   ]
  },
  {
   "cell_type": "code",
   "execution_count": 19,
   "id": "0b1cab93-3df7-4fe6-947f-eb5a3bfc6130",
   "metadata": {
    "tags": []
   },
   "outputs": [
    {
     "name": "stdout",
     "output_type": "stream",
     "text": [
      "4613443.340001534 Month 12\n"
     ]
    }
   ],
   "source": [
    "print(str(max_num) + \" Month \" + str(profit.index(max_num)+1))"
   ]
  },
  {
   "cell_type": "code",
   "execution_count": 20,
   "id": "07f74501-f846-4180-9a0e-dbbb73c5b14e",
   "metadata": {
    "tags": []
   },
   "outputs": [
    {
     "data": {
      "text/plain": [
       "'\\n#How it made dude\\ndf = df[~df.isnull().any(axis=1)]\\ndf = df[df[\\'Order Date\\'].str[0:2] != \"Or\"]\\ndf[\\'Month\\'] = df[\\'Order Date\\'].str[0:2]\\ndf[\\'Month\\'] = df[\\'Month\\'].astype(\\'int32\\')\\n'"
      ]
     },
     "execution_count": 20,
     "metadata": {},
     "output_type": "execute_result"
    }
   ],
   "source": [
    "\"\"\"\n",
    "#How it made dude\n",
    "\n",
    "#Ага... Т.е. я это ещё легче мог сделать .-.\n",
    "df = df[~df.isnull().any(axis=1)]\n",
    "df = df[df['Order Date'].str[0:2] != \"Or\"]\n",
    "df['Month'] = df['Order Date'].str[0:2]\n",
    "df['Month'] = df['Month'].astype('int32')\n",
    "\n",
    "df.groupby('Month').sum()\n",
    "\"\"\""
   ]
  },
  {
   "cell_type": "code",
   "execution_count": 24,
   "id": "b8425c48-84b0-40ed-b74d-5a34a0b67aaa",
   "metadata": {
    "tags": []
   },
   "outputs": [],
   "source": [
    "results = df.groupby('Month').sum()"
   ]
  },
  {
   "cell_type": "code",
   "execution_count": 28,
   "id": "3f438224-48cd-435c-b21c-413edac8c8cd",
   "metadata": {
    "tags": []
   },
   "outputs": [
    {
     "data": {
      "image/png": "[encoded data removed]",
      "text/plain": [
       "<Figure size 640x480 with 1 Axes>"
      ]
     },
     "metadata": {},
     "output_type": "display_data"
    }
   ],
   "source": [
    "plt.bar(stuff, results['Sales'])\n",
    "plt.xticks(stuff)\n",
    "plt.ylabel('sales in USD ($)')\n",
    "plt.xlabel('Month')\n",
    "plt.show()"
   ]
  },
  {
   "cell_type": "code",
   "execution_count": null,
   "id": "df9cfe61-3985-4e6d-8a64-17ef0e68e4a8",
   "metadata": {},
   "outputs": [],
   "source": [
    "\n",
    "#34:26\n"
   ]
  }
 ],
 "metadata": {
  "kernelspec": {
   "display_name": "Python 3 (ipykernel)",
   "language": "python",
   "name": "python3"
  },
  "language_info": {
   "codemirror_mode": {
    "name": "ipython",
    "version": 3
   },
   "file_extension": ".py",
   "mimetype": "text/x-python",
   "name": "python",
   "nbconvert_exporter": "python",
   "pygments_lexer": "ipython3",
   "version": "3.11.5"
  }
 },
 "nbformat": 4,
 "nbformat_minor": 5
}
