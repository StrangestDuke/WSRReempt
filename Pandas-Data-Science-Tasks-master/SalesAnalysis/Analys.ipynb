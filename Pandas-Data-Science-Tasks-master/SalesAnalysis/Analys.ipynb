{
 "cells": [
  {
   "cell_type": "code",
   "execution_count": 1,
   "id": "95ddb46a-4405-4c04-93cf-b1b260da99eb",
   "metadata": {
    "tags": []
   },
   "outputs": [],
   "source": [
    "import pandas as pd\n",
    "import numpy as np\n",
    "import matplotlib.pyplot as plt\n",
    "import seaborn as sns\n",
    "import re\n",
    "import os"
   ]
  },
  {
   "cell_type": "code",
   "execution_count": 2,
   "id": "28ff4aa0-dec5-4f4a-bf02-ebe51e3b1e7e",
   "metadata": {},
   "outputs": [
    {
     "name": "stdout",
     "output_type": "stream",
     "text": [
      "['Sales_April_2019.csv', 'Sales_August_2019.csv', 'Sales_December_2019.csv', 'Sales_February_2019.csv', 'Sales_January_2019.csv', 'Sales_July_2019.csv', 'Sales_June_2019.csv', 'Sales_March_2019.csv', 'Sales_May_2019.csv', 'Sales_November_2019.csv', 'Sales_October_2019.csv', 'Sales_September_2019.csv']\n"
     ]
    }
   ],
   "source": [
    "print(os.listdir(\"Sales_Data\"))"
   ]
  },
  {
   "cell_type": "markdown",
   "id": "01c9714c-7f58-4f4f-8ceb-ab5c8ca8440c",
   "metadata": {},
   "source": [
    "\n",
    "По сути, мне необходимо примерно понять последовательность по которой мне нужно будет работать\n",
    "и отработать за неделю последовательность, в которой я смогу спокойно ориентироваться. Так-же\n",
    "работать именно с крупными датасетами научиться, дабы не терять слишком много времени, как в прошлый\n",
    "раз, в ожидании обработки данных, а сразу тыкнуть все приколы и понимать казуальность в датасете.\n",
    "\n",
    "Как понимаю, если тебе требуется как-то изменять данные в датасете - следует себя по рукам шлёпнуть\n",
    "и поискать методы по обработки данных, что уже у тебя есть.\n",
    "\n",
    "Т.е. вывести методику по работе, а так-же навыки по работе с крупными датасетами.\n",
    "\n",
    "Так-же нужно пересмотреть свои работы, а так-же немного по рефлексировать над тем, что было в них \n",
    "написано.\n",
    "\n",
    "Так-же отработать взаимодействие с mongobd(либо postgress) на Linux\n",
    "Подучиться коннектиться через консоль к гиту и с машины делать репозиторий на гит аккаунте.\n",
    "\n"
   ]
  },
  {
   "cell_type": "code",
   "execution_count": 3,
   "id": "e166917f-239a-4d89-a092-f6fcea62b41b",
   "metadata": {
    "tags": []
   },
   "outputs": [],
   "source": [
    "try:\n",
    "    df = pd.read_csv(\"df.csv\")\n",
    "except:\n",
    "    print('makin` stuff')\n",
    "    path = \"Sales_Data\"\n",
    "    files = os.listdir(path)\n",
    "    df = pd.DataFrame()\n",
    "\n",
    "    for file in files:\n",
    "        current_data = pd.read_csv(path+\"/\"+file ,  encoding = \"ISO-8859-1\")  \n",
    "        df = pd.concat([df,current_data])\n",
    "\n",
    "    df.to_csv(\"df.csv\", index=False)"
   ]
  },
  {
   "cell_type": "code",
   "execution_count": 4,
   "id": "0f1dc0d2-5fe9-4048-8d22-ddad1b65189b",
   "metadata": {
    "tags": []
   },
   "outputs": [
    {
     "name": "stdout",
     "output_type": "stream",
     "text": [
      "<class 'pandas.core.frame.DataFrame'>\n",
      "RangeIndex: 186850 entries, 0 to 186849\n",
      "Data columns (total 6 columns):\n",
      " #   Column            Non-Null Count   Dtype \n",
      "---  ------            --------------   ----- \n",
      " 0   Order ID          186305 non-null  object\n",
      " 1   Product           186305 non-null  object\n",
      " 2   Quantity Ordered  186305 non-null  object\n",
      " 3   Price Each        186305 non-null  object\n",
      " 4   Order Date        186305 non-null  object\n",
      " 5   Purchase Address  186305 non-null  object\n",
      "dtypes: object(6)\n",
      "memory usage: 8.6+ MB\n"
     ]
    }
   ],
   "source": [
    "df.info()"
   ]
  },
  {
   "cell_type": "code",
   "execution_count": 5,
   "id": "66f1fa04-c323-414a-8e4b-d309c53b92ac",
   "metadata": {
    "tags": []
   },
   "outputs": [
    {
     "data": {
      "text/plain": [
       "Order ID            545\n",
       "Product             545\n",
       "Quantity Ordered    545\n",
       "Price Each          545\n",
       "Order Date          545\n",
       "Purchase Address    545\n",
       "dtype: int64"
      ]
     },
     "execution_count": 5,
     "metadata": {},
     "output_type": "execute_result"
    }
   ],
   "source": [
    "df.isna().sum(axis=0)"
   ]
  },
  {
   "cell_type": "code",
   "execution_count": 6,
   "id": "a99f5c6b-bd04-420b-adc2-bd6d512f6f27",
   "metadata": {
    "tags": []
   },
   "outputs": [],
   "source": [
    "df = df[~df.isnull().any(axis=1)]\n",
    "df = df[df['Order Date'].str[0:2] != \"Or\"]\n",
    "df.reset_index(drop=True, inplace=True)"
   ]
  },
  {
   "cell_type": "code",
   "execution_count": 7,
   "id": "97d2173c-81ac-4b42-aeca-224375355372",
   "metadata": {
    "tags": []
   },
   "outputs": [
    {
     "data": {
      "text/plain": [
       "Order ID            0\n",
       "Product             0\n",
       "Quantity Ordered    0\n",
       "Price Each          0\n",
       "Order Date          0\n",
       "Purchase Address    0\n",
       "dtype: int64"
      ]
     },
     "execution_count": 7,
     "metadata": {},
     "output_type": "execute_result"
    }
   ],
   "source": [
    "df.isna().sum(axis=0)"
   ]
  },
  {
   "cell_type": "code",
   "execution_count": 8,
   "id": "27118f4e-1243-44f4-92b3-6fa642f17270",
   "metadata": {
    "tags": []
   },
   "outputs": [
    {
     "data": {
      "text/html": [
       "<div>\n",
       "<style scoped>\n",
       "    .dataframe tbody tr th:only-of-type {\n",
       "        vertical-align: middle;\n",
       "    }\n",
       "\n",
       "    .dataframe tbody tr th {\n",
       "        vertical-align: top;\n",
       "    }\n",
       "\n",
       "    .dataframe thead th {\n",
       "        text-align: right;\n",
       "    }\n",
       "</style>\n",
       "<table border=\"1\" class=\"dataframe\">\n",
       "  <thead>\n",
       "    <tr style=\"text-align: right;\">\n",
       "      <th></th>\n",
       "      <th>Order ID</th>\n",
       "      <th>Product</th>\n",
       "      <th>Quantity Ordered</th>\n",
       "      <th>Price Each</th>\n",
       "      <th>Order Date</th>\n",
       "      <th>Purchase Address</th>\n",
       "    </tr>\n",
       "  </thead>\n",
       "  <tbody>\n",
       "    <tr>\n",
       "      <th>0</th>\n",
       "      <td>176558</td>\n",
       "      <td>USB-C Charging Cable</td>\n",
       "      <td>2</td>\n",
       "      <td>11.95</td>\n",
       "      <td>04/19/19 08:46</td>\n",
       "      <td>917 1st St, Dallas, TX 75001</td>\n",
       "    </tr>\n",
       "    <tr>\n",
       "      <th>1</th>\n",
       "      <td>176559</td>\n",
       "      <td>Bose SoundSport Headphones</td>\n",
       "      <td>1</td>\n",
       "      <td>99.99</td>\n",
       "      <td>04/07/19 22:30</td>\n",
       "      <td>682 Chestnut St, Boston, MA 02215</td>\n",
       "    </tr>\n",
       "    <tr>\n",
       "      <th>2</th>\n",
       "      <td>176560</td>\n",
       "      <td>Google Phone</td>\n",
       "      <td>1</td>\n",
       "      <td>600</td>\n",
       "      <td>04/12/19 14:38</td>\n",
       "      <td>669 Spruce St, Los Angeles, CA 90001</td>\n",
       "    </tr>\n",
       "    <tr>\n",
       "      <th>3</th>\n",
       "      <td>176560</td>\n",
       "      <td>Wired Headphones</td>\n",
       "      <td>1</td>\n",
       "      <td>11.99</td>\n",
       "      <td>04/12/19 14:38</td>\n",
       "      <td>669 Spruce St, Los Angeles, CA 90001</td>\n",
       "    </tr>\n",
       "    <tr>\n",
       "      <th>4</th>\n",
       "      <td>176561</td>\n",
       "      <td>Wired Headphones</td>\n",
       "      <td>1</td>\n",
       "      <td>11.99</td>\n",
       "      <td>04/30/19 09:27</td>\n",
       "      <td>333 8th St, Los Angeles, CA 90001</td>\n",
       "    </tr>\n",
       "  </tbody>\n",
       "</table>\n",
       "</div>"
      ],
      "text/plain": [
       "  Order ID                     Product Quantity Ordered Price Each  \\\n",
       "0   176558        USB-C Charging Cable                2      11.95   \n",
       "1   176559  Bose SoundSport Headphones                1      99.99   \n",
       "2   176560                Google Phone                1        600   \n",
       "3   176560            Wired Headphones                1      11.99   \n",
       "4   176561            Wired Headphones                1      11.99   \n",
       "\n",
       "       Order Date                      Purchase Address  \n",
       "0  04/19/19 08:46          917 1st St, Dallas, TX 75001  \n",
       "1  04/07/19 22:30     682 Chestnut St, Boston, MA 02215  \n",
       "2  04/12/19 14:38  669 Spruce St, Los Angeles, CA 90001  \n",
       "3  04/12/19 14:38  669 Spruce St, Los Angeles, CA 90001  \n",
       "4  04/30/19 09:27     333 8th St, Los Angeles, CA 90001  "
      ]
     },
     "execution_count": 8,
     "metadata": {},
     "output_type": "execute_result"
    }
   ],
   "source": [
    "df.head()"
   ]
  },
  {
   "cell_type": "code",
   "execution_count": 9,
   "id": "402a56fb-bc68-4554-b9ea-0c23f9915f24",
   "metadata": {
    "tags": []
   },
   "outputs": [
    {
     "data": {
      "text/html": [
       "<div>\n",
       "<style scoped>\n",
       "    .dataframe tbody tr th:only-of-type {\n",
       "        vertical-align: middle;\n",
       "    }\n",
       "\n",
       "    .dataframe tbody tr th {\n",
       "        vertical-align: top;\n",
       "    }\n",
       "\n",
       "    .dataframe thead th {\n",
       "        text-align: right;\n",
       "    }\n",
       "</style>\n",
       "<table border=\"1\" class=\"dataframe\">\n",
       "  <thead>\n",
       "    <tr style=\"text-align: right;\">\n",
       "      <th></th>\n",
       "      <th>Order ID</th>\n",
       "      <th>Product</th>\n",
       "      <th>Quantity Ordered</th>\n",
       "      <th>Price Each</th>\n",
       "      <th>Order Date</th>\n",
       "      <th>Purchase Address</th>\n",
       "    </tr>\n",
       "  </thead>\n",
       "  <tbody>\n",
       "    <tr>\n",
       "      <th>0</th>\n",
       "      <td>176558</td>\n",
       "      <td>USB-C Charging Cable</td>\n",
       "      <td>2</td>\n",
       "      <td>11.95</td>\n",
       "      <td>04/19/19 08:46</td>\n",
       "      <td>917 1st St, Dallas, TX 75001</td>\n",
       "    </tr>\n",
       "    <tr>\n",
       "      <th>1</th>\n",
       "      <td>176559</td>\n",
       "      <td>Bose SoundSport Headphones</td>\n",
       "      <td>1</td>\n",
       "      <td>99.99</td>\n",
       "      <td>04/07/19 22:30</td>\n",
       "      <td>682 Chestnut St, Boston, MA 02215</td>\n",
       "    </tr>\n",
       "    <tr>\n",
       "      <th>2</th>\n",
       "      <td>176560</td>\n",
       "      <td>Google Phone</td>\n",
       "      <td>1</td>\n",
       "      <td>600</td>\n",
       "      <td>04/12/19 14:38</td>\n",
       "      <td>669 Spruce St, Los Angeles, CA 90001</td>\n",
       "    </tr>\n",
       "    <tr>\n",
       "      <th>3</th>\n",
       "      <td>176560</td>\n",
       "      <td>Wired Headphones</td>\n",
       "      <td>1</td>\n",
       "      <td>11.99</td>\n",
       "      <td>04/12/19 14:38</td>\n",
       "      <td>669 Spruce St, Los Angeles, CA 90001</td>\n",
       "    </tr>\n",
       "    <tr>\n",
       "      <th>4</th>\n",
       "      <td>176561</td>\n",
       "      <td>Wired Headphones</td>\n",
       "      <td>1</td>\n",
       "      <td>11.99</td>\n",
       "      <td>04/30/19 09:27</td>\n",
       "      <td>333 8th St, Los Angeles, CA 90001</td>\n",
       "    </tr>\n",
       "  </tbody>\n",
       "</table>\n",
       "</div>"
      ],
      "text/plain": [
       "  Order ID                     Product Quantity Ordered Price Each  \\\n",
       "0   176558        USB-C Charging Cable                2      11.95   \n",
       "1   176559  Bose SoundSport Headphones                1      99.99   \n",
       "2   176560                Google Phone                1        600   \n",
       "3   176560            Wired Headphones                1      11.99   \n",
       "4   176561            Wired Headphones                1      11.99   \n",
       "\n",
       "       Order Date                      Purchase Address  \n",
       "0  04/19/19 08:46          917 1st St, Dallas, TX 75001  \n",
       "1  04/07/19 22:30     682 Chestnut St, Boston, MA 02215  \n",
       "2  04/12/19 14:38  669 Spruce St, Los Angeles, CA 90001  \n",
       "3  04/12/19 14:38  669 Spruce St, Los Angeles, CA 90001  \n",
       "4  04/30/19 09:27     333 8th St, Los Angeles, CA 90001  "
      ]
     },
     "execution_count": 9,
     "metadata": {},
     "output_type": "execute_result"
    }
   ],
   "source": [
    "df.head()"
   ]
  },
  {
   "cell_type": "code",
   "execution_count": 10,
   "id": "fe72ac33-ee82-4aa7-be07-1aab95c85df1",
   "metadata": {
    "tags": []
   },
   "outputs": [
    {
     "data": {
      "text/plain": [
       "'\\nТ.е. я мог не ждать пол ебанных часа, чтобы просто перехуярить даты в... Даты, а просто по стрингу\\nотсортировать... \\n'"
      ]
     },
     "execution_count": 10,
     "metadata": {},
     "output_type": "execute_result"
    }
   ],
   "source": [
    "\"\"\"\n",
    "Т.е. я мог не ждать пол ебанных часа, чтобы просто перехуярить даты в... Даты, а просто по стрингу\n",
    "отсортировать... \n",
    "\"\"\"\n",
    "#a = df1.loc[(df1['Order Date'] >= '04/01/19') & (df1['Order Date'] < '04/31/19')]"
   ]
  },
  {
   "cell_type": "code",
   "execution_count": 11,
   "id": "d2c38866-4eca-4e3b-8056-064c2161c0cf",
   "metadata": {
    "tags": []
   },
   "outputs": [],
   "source": [
    "#df[df['Order Date'].astype(str).str.contains('^01',flags = re.I, regex=True)].head(100)"
   ]
  },
  {
   "cell_type": "code",
   "execution_count": 12,
   "id": "5b2f8722-a130-4008-b035-e19d4ad33477",
   "metadata": {
    "tags": []
   },
   "outputs": [],
   "source": [
    "#a.info()"
   ]
  },
  {
   "cell_type": "code",
   "execution_count": 13,
   "id": "2f4e2053-b439-4aa3-9402-36f900f2a89f",
   "metadata": {
    "tags": []
   },
   "outputs": [],
   "source": [
    "df['Quantity Ordered'] = pd.to_numeric(df['Quantity Ordered'])\n",
    "df['Price Each'] = pd.to_numeric(df['Price Each'])\n"
   ]
  },
  {
   "cell_type": "code",
   "execution_count": 14,
   "id": "a75071b5-d866-400b-b8db-2d19d7effc75",
   "metadata": {
    "tags": []
   },
   "outputs": [],
   "source": [
    "df['Sales'] = df['Quantity Ordered'] * df['Price Each']"
   ]
  },
  {
   "cell_type": "code",
   "execution_count": 15,
   "id": "c702c087-72fd-4b79-a604-a8c44e2a2b4f",
   "metadata": {
    "tags": []
   },
   "outputs": [],
   "source": [
    "profit = list()"
   ]
  },
  {
   "cell_type": "code",
   "execution_count": 16,
   "id": "f964b00e-29c0-455b-80d4-417e81bd9e7d",
   "metadata": {
    "tags": []
   },
   "outputs": [],
   "source": [
    "stuff = np.arange(1,13)\n",
    "for i in stuff:\n",
    "    if i <= 9:\n",
    "        month = str(0) + str(i)\n",
    "    else:\n",
    "        month = str(i)\n",
    "    current_month = df.loc[(df['Order Date'] >= f'{month}/01/19') &\n",
    "                           (df['Order Date'] < f'{month}/32/19')].copy()\n",
    "    profit.append(sum(current_month['Sales']))"
   ]
  },
  {
   "cell_type": "code",
   "execution_count": 17,
   "id": "2e0bb8f4-a73b-4b25-9354-1dba29cb5977",
   "metadata": {
    "tags": []
   },
   "outputs": [
    {
     "name": "stdout",
     "output_type": "stream",
     "text": [
      "[1822256.729999914, 2202022.4199999636, 2807100.3800003603, 3390670.240000704, 3152606.750000553, 2577802.260000178, 2647775.7600002377, 2244467.8799999943, 2097560.129999891, 3736726.8800009703, 3199603.200000589, 4613443.340001534]\n"
     ]
    }
   ],
   "source": [
    "print(profit)"
   ]
  },
  {
   "cell_type": "code",
   "execution_count": 18,
   "id": "cb12f49b-5e34-4baa-8ff0-a276444b5203",
   "metadata": {
    "tags": []
   },
   "outputs": [],
   "source": [
    "max_num = max(profit)"
   ]
  },
  {
   "cell_type": "code",
   "execution_count": 19,
   "id": "0b1cab93-3df7-4fe6-947f-eb5a3bfc6130",
   "metadata": {
    "tags": []
   },
   "outputs": [
    {
     "name": "stdout",
     "output_type": "stream",
     "text": [
      "4613443.340001534 Month 12\n"
     ]
    }
   ],
   "source": [
    "print(str(max_num) + \" Month \" + str(profit.index(max_num)+1))"
   ]
  },
  {
   "cell_type": "code",
   "execution_count": 20,
   "id": "f8ff7fdf-57f5-4299-acdb-ec1c3f394abb",
   "metadata": {
    "tags": []
   },
   "outputs": [
    {
     "data": {
      "text/plain": [
       "'\\n#How it made dude\\n\\n#Ага... Т.е. я это ещё легче мог сделать .-.\\ndf = df[~df.isnull().any(axis=1)]\\ndf = df[df[\\'Order Date\\'].str[0:2] != \"Or\"]\\ndf[\\'Month\\'] = df[\\'Order Date\\'].str[0:2]\\ndf[\\'Month\\'] = df[\\'Month\\'].astype(\\'int32\\')\\n\\ndf.groupby(\\'Month\\').sum()\\n'"
      ]
     },
     "execution_count": 20,
     "metadata": {},
     "output_type": "execute_result"
    }
   ],
   "source": [
    "\"\"\"\n",
    "#How it made dude\n",
    "\n",
    "#Ага... Т.е. я это ещё легче мог сделать .-.\n",
    "df = df[~df.isnull().any(axis=1)]\n",
    "df = df[df['Order Date'].str[0:2] != \"Or\"]\n",
    "df['Month'] = df['Order Date'].str[0:2]\n",
    "df['Month'] = df['Month'].astype('int32')\n",
    "\n",
    "df.groupby('Month').sum()\n",
    "\"\"\""
   ]
  },
  {
   "cell_type": "code",
   "execution_count": 21,
   "id": "e26a63de-5605-48f1-89c2-6ca2fac6e1c6",
   "metadata": {},
   "outputs": [],
   "source": [
    "#Ага... Т.е. я это ещё легче мог сделать .-.\n",
    "df = df[~df.isnull().any(axis=1)]\n",
    "df = df[df['Order Date'].str[0:2] != \"Or\"]\n",
    "df['Month'] = df['Order Date'].str[0:2]\n",
    "df['Month'] = df['Month'].astype('int32')\n"
   ]
  },
  {
   "cell_type": "code",
   "execution_count": 22,
   "id": "b8425c48-84b0-40ed-b74d-5a34a0b67aaa",
   "metadata": {
    "tags": []
   },
   "outputs": [],
   "source": [
    "results = df.groupby('Month').sum()"
   ]
  },
  {
   "cell_type": "code",
   "execution_count": 23,
   "id": "3f438224-48cd-435c-b21c-413edac8c8cd",
   "metadata": {
    "tags": []
   },
   "outputs": [
    {
     "data": {
      "image/png": "[encoded data removed]",
      "text/plain": [
       "<Figure size 640x480 with 1 Axes>"
      ]
     },
     "metadata": {},
     "output_type": "display_data"
    }
   ],
   "source": [
    "plt.bar(stuff, results['Sales'])\n",
    "plt.xticks(stuff)\n",
    "plt.ylabel('sales in USD ($)')\n",
    "plt.xlabel('Month')\n",
    "plt.show()"
   ]
  },
  {
   "cell_type": "code",
   "execution_count": 24,
   "id": "10034b46-0489-461e-94e9-f58f32e57028",
   "metadata": {
    "tags": []
   },
   "outputs": [
    {
     "data": {
      "text/html": [
       "<div>\n",
       "<style scoped>\n",
       "    .dataframe tbody tr th:only-of-type {\n",
       "        vertical-align: middle;\n",
       "    }\n",
       "\n",
       "    .dataframe tbody tr th {\n",
       "        vertical-align: top;\n",
       "    }\n",
       "\n",
       "    .dataframe thead th {\n",
       "        text-align: right;\n",
       "    }\n",
       "</style>\n",
       "<table border=\"1\" class=\"dataframe\">\n",
       "  <thead>\n",
       "    <tr style=\"text-align: right;\">\n",
       "      <th></th>\n",
       "      <th>Order ID</th>\n",
       "      <th>Product</th>\n",
       "      <th>Quantity Ordered</th>\n",
       "      <th>Price Each</th>\n",
       "      <th>Order Date</th>\n",
       "      <th>Purchase Address</th>\n",
       "      <th>Sales</th>\n",
       "      <th>Month</th>\n",
       "      <th>Town</th>\n",
       "    </tr>\n",
       "  </thead>\n",
       "  <tbody>\n",
       "    <tr>\n",
       "      <th>0</th>\n",
       "      <td>176558</td>\n",
       "      <td>USB-C Charging Cable</td>\n",
       "      <td>2</td>\n",
       "      <td>11.95</td>\n",
       "      <td>04/19/19 08:46</td>\n",
       "      <td>917 1st St, Dallas, TX 75001</td>\n",
       "      <td>23.90</td>\n",
       "      <td>4</td>\n",
       "      <td>Dallas TX</td>\n",
       "    </tr>\n",
       "    <tr>\n",
       "      <th>1</th>\n",
       "      <td>176559</td>\n",
       "      <td>Bose SoundSport Headphones</td>\n",
       "      <td>1</td>\n",
       "      <td>99.99</td>\n",
       "      <td>04/07/19 22:30</td>\n",
       "      <td>682 Chestnut St, Boston, MA 02215</td>\n",
       "      <td>99.99</td>\n",
       "      <td>4</td>\n",
       "      <td>Boston MA</td>\n",
       "    </tr>\n",
       "    <tr>\n",
       "      <th>2</th>\n",
       "      <td>176560</td>\n",
       "      <td>Google Phone</td>\n",
       "      <td>1</td>\n",
       "      <td>600.00</td>\n",
       "      <td>04/12/19 14:38</td>\n",
       "      <td>669 Spruce St, Los Angeles, CA 90001</td>\n",
       "      <td>600.00</td>\n",
       "      <td>4</td>\n",
       "      <td>Los Angeles CA</td>\n",
       "    </tr>\n",
       "    <tr>\n",
       "      <th>3</th>\n",
       "      <td>176560</td>\n",
       "      <td>Wired Headphones</td>\n",
       "      <td>1</td>\n",
       "      <td>11.99</td>\n",
       "      <td>04/12/19 14:38</td>\n",
       "      <td>669 Spruce St, Los Angeles, CA 90001</td>\n",
       "      <td>11.99</td>\n",
       "      <td>4</td>\n",
       "      <td>Los Angeles CA</td>\n",
       "    </tr>\n",
       "    <tr>\n",
       "      <th>4</th>\n",
       "      <td>176561</td>\n",
       "      <td>Wired Headphones</td>\n",
       "      <td>1</td>\n",
       "      <td>11.99</td>\n",
       "      <td>04/30/19 09:27</td>\n",
       "      <td>333 8th St, Los Angeles, CA 90001</td>\n",
       "      <td>11.99</td>\n",
       "      <td>4</td>\n",
       "      <td>Los Angeles CA</td>\n",
       "    </tr>\n",
       "  </tbody>\n",
       "</table>\n",
       "</div>"
      ],
      "text/plain": [
       "  Order ID                     Product  Quantity Ordered  Price Each  \\\n",
       "0   176558        USB-C Charging Cable                 2       11.95   \n",
       "1   176559  Bose SoundSport Headphones                 1       99.99   \n",
       "2   176560                Google Phone                 1      600.00   \n",
       "3   176560            Wired Headphones                 1       11.99   \n",
       "4   176561            Wired Headphones                 1       11.99   \n",
       "\n",
       "       Order Date                      Purchase Address   Sales  Month  \\\n",
       "0  04/19/19 08:46          917 1st St, Dallas, TX 75001   23.90      4   \n",
       "1  04/07/19 22:30     682 Chestnut St, Boston, MA 02215   99.99      4   \n",
       "2  04/12/19 14:38  669 Spruce St, Los Angeles, CA 90001  600.00      4   \n",
       "3  04/12/19 14:38  669 Spruce St, Los Angeles, CA 90001   11.99      4   \n",
       "4  04/30/19 09:27     333 8th St, Los Angeles, CA 90001   11.99      4   \n",
       "\n",
       "              Town  \n",
       "0        Dallas TX  \n",
       "1        Boston MA  \n",
       "2   Los Angeles CA  \n",
       "3   Los Angeles CA  \n",
       "4   Los Angeles CA  "
      ]
     },
     "execution_count": 24,
     "metadata": {},
     "output_type": "execute_result"
    }
   ],
   "source": [
    "def get_city(address):\n",
    "    return address.split(',')[1]\n",
    "\n",
    "def get_state(address):\n",
    "    return address.split(',')[2].split(' ')[1]\n",
    "\n",
    "df['Town']=df['Purchase Address'].apply(lambda x: get_city(x)+' ' + get_state(x))\n",
    "\n",
    "df.head()"
   ]
  },
  {
   "cell_type": "code",
   "execution_count": 25,
   "id": "24aa6822-3e39-400a-88d1-103083c6e000",
   "metadata": {
    "tags": []
   },
   "outputs": [],
   "source": [
    "#df['Town'] = df['Purchase Address'].str.rsplit(',').str[-2] "
   ]
  },
  {
   "cell_type": "code",
   "execution_count": 26,
   "id": "08334f64-8b70-4709-bb02-489406bd4b63",
   "metadata": {
    "tags": []
   },
   "outputs": [],
   "source": [
    "#df['State'] = df['Purchase Address'].str.rsplit(',').str[-1]"
   ]
  },
  {
   "cell_type": "code",
   "execution_count": 27,
   "id": "fc449a21-1cfd-41e7-a2fc-a3fa4e41da41",
   "metadata": {
    "tags": []
   },
   "outputs": [
    {
     "data": {
      "text/html": [
       "<div>\n",
       "<style scoped>\n",
       "    .dataframe tbody tr th:only-of-type {\n",
       "        vertical-align: middle;\n",
       "    }\n",
       "\n",
       "    .dataframe tbody tr th {\n",
       "        vertical-align: top;\n",
       "    }\n",
       "\n",
       "    .dataframe thead th {\n",
       "        text-align: right;\n",
       "    }\n",
       "</style>\n",
       "<table border=\"1\" class=\"dataframe\">\n",
       "  <thead>\n",
       "    <tr style=\"text-align: right;\">\n",
       "      <th></th>\n",
       "      <th>Order ID</th>\n",
       "      <th>Product</th>\n",
       "      <th>Quantity Ordered</th>\n",
       "      <th>Price Each</th>\n",
       "      <th>Order Date</th>\n",
       "      <th>Purchase Address</th>\n",
       "      <th>Sales</th>\n",
       "      <th>Month</th>\n",
       "      <th>Town</th>\n",
       "    </tr>\n",
       "  </thead>\n",
       "  <tbody>\n",
       "    <tr>\n",
       "      <th>0</th>\n",
       "      <td>176558</td>\n",
       "      <td>USB-C Charging Cable</td>\n",
       "      <td>2</td>\n",
       "      <td>11.95</td>\n",
       "      <td>04/19/19 08:46</td>\n",
       "      <td>917 1st St, Dallas, TX 75001</td>\n",
       "      <td>23.90</td>\n",
       "      <td>4</td>\n",
       "      <td>Dallas TX</td>\n",
       "    </tr>\n",
       "    <tr>\n",
       "      <th>1</th>\n",
       "      <td>176559</td>\n",
       "      <td>Bose SoundSport Headphones</td>\n",
       "      <td>1</td>\n",
       "      <td>99.99</td>\n",
       "      <td>04/07/19 22:30</td>\n",
       "      <td>682 Chestnut St, Boston, MA 02215</td>\n",
       "      <td>99.99</td>\n",
       "      <td>4</td>\n",
       "      <td>Boston MA</td>\n",
       "    </tr>\n",
       "    <tr>\n",
       "      <th>2</th>\n",
       "      <td>176560</td>\n",
       "      <td>Google Phone</td>\n",
       "      <td>1</td>\n",
       "      <td>600.00</td>\n",
       "      <td>04/12/19 14:38</td>\n",
       "      <td>669 Spruce St, Los Angeles, CA 90001</td>\n",
       "      <td>600.00</td>\n",
       "      <td>4</td>\n",
       "      <td>Los Angeles CA</td>\n",
       "    </tr>\n",
       "    <tr>\n",
       "      <th>3</th>\n",
       "      <td>176560</td>\n",
       "      <td>Wired Headphones</td>\n",
       "      <td>1</td>\n",
       "      <td>11.99</td>\n",
       "      <td>04/12/19 14:38</td>\n",
       "      <td>669 Spruce St, Los Angeles, CA 90001</td>\n",
       "      <td>11.99</td>\n",
       "      <td>4</td>\n",
       "      <td>Los Angeles CA</td>\n",
       "    </tr>\n",
       "    <tr>\n",
       "      <th>4</th>\n",
       "      <td>176561</td>\n",
       "      <td>Wired Headphones</td>\n",
       "      <td>1</td>\n",
       "      <td>11.99</td>\n",
       "      <td>04/30/19 09:27</td>\n",
       "      <td>333 8th St, Los Angeles, CA 90001</td>\n",
       "      <td>11.99</td>\n",
       "      <td>4</td>\n",
       "      <td>Los Angeles CA</td>\n",
       "    </tr>\n",
       "  </tbody>\n",
       "</table>\n",
       "</div>"
      ],
      "text/plain": [
       "  Order ID                     Product  Quantity Ordered  Price Each  \\\n",
       "0   176558        USB-C Charging Cable                 2       11.95   \n",
       "1   176559  Bose SoundSport Headphones                 1       99.99   \n",
       "2   176560                Google Phone                 1      600.00   \n",
       "3   176560            Wired Headphones                 1       11.99   \n",
       "4   176561            Wired Headphones                 1       11.99   \n",
       "\n",
       "       Order Date                      Purchase Address   Sales  Month  \\\n",
       "0  04/19/19 08:46          917 1st St, Dallas, TX 75001   23.90      4   \n",
       "1  04/07/19 22:30     682 Chestnut St, Boston, MA 02215   99.99      4   \n",
       "2  04/12/19 14:38  669 Spruce St, Los Angeles, CA 90001  600.00      4   \n",
       "3  04/12/19 14:38  669 Spruce St, Los Angeles, CA 90001   11.99      4   \n",
       "4  04/30/19 09:27     333 8th St, Los Angeles, CA 90001   11.99      4   \n",
       "\n",
       "              Town  \n",
       "0        Dallas TX  \n",
       "1        Boston MA  \n",
       "2   Los Angeles CA  \n",
       "3   Los Angeles CA  \n",
       "4   Los Angeles CA  "
      ]
     },
     "execution_count": 27,
     "metadata": {},
     "output_type": "execute_result"
    }
   ],
   "source": [
    "df.head()"
   ]
  },
  {
   "cell_type": "code",
   "execution_count": 28,
   "id": "52273e4d-a0f6-4a3b-bfa7-ef766f8bd6cc",
   "metadata": {
    "tags": []
   },
   "outputs": [],
   "source": [
    "results = df.groupby('Town').sum()"
   ]
  },
  {
   "cell_type": "code",
   "execution_count": 29,
   "id": "e43f3a4c-a3dd-417b-b01c-7a0752414e60",
   "metadata": {
    "tags": []
   },
   "outputs": [],
   "source": [
    "results = results.reset_index()"
   ]
  },
  {
   "cell_type": "code",
   "execution_count": 30,
   "id": "70decb2e-c0f3-4f25-9092-f199150d50b4",
   "metadata": {
    "tags": []
   },
   "outputs": [
    {
     "data": {
      "text/html": [
       "<div>\n",
       "<style scoped>\n",
       "    .dataframe tbody tr th:only-of-type {\n",
       "        vertical-align: middle;\n",
       "    }\n",
       "\n",
       "    .dataframe tbody tr th {\n",
       "        vertical-align: top;\n",
       "    }\n",
       "\n",
       "    .dataframe thead th {\n",
       "        text-align: right;\n",
       "    }\n",
       "</style>\n",
       "<table border=\"1\" class=\"dataframe\">\n",
       "  <thead>\n",
       "    <tr style=\"text-align: right;\">\n",
       "      <th></th>\n",
       "      <th>Town</th>\n",
       "      <th>Order ID</th>\n",
       "      <th>Product</th>\n",
       "      <th>Quantity Ordered</th>\n",
       "      <th>Price Each</th>\n",
       "      <th>Order Date</th>\n",
       "      <th>Purchase Address</th>\n",
       "      <th>Sales</th>\n",
       "      <th>Month</th>\n",
       "    </tr>\n",
       "  </thead>\n",
       "  <tbody>\n",
       "    <tr>\n",
       "      <th>0</th>\n",
       "      <td>Atlanta GA</td>\n",
       "      <td>1765641765711765821765891766231766271766341766...</td>\n",
       "      <td>USB-C Charging CableLightning Charging CableBo...</td>\n",
       "      <td>16602</td>\n",
       "      <td>2779908.20</td>\n",
       "      <td>04/12/19 10:5804/19/19 14:2904/27/19 12:2004/0...</td>\n",
       "      <td>790 Ridge St, Atlanta, GA 30301253 Johnson St,...</td>\n",
       "      <td>2795498.58</td>\n",
       "      <td>104794</td>\n",
       "    </tr>\n",
       "    <tr>\n",
       "      <th>1</th>\n",
       "      <td>Austin TX</td>\n",
       "      <td>1765911766091766741766771766861767011767051767...</td>\n",
       "      <td>Apple Airpods HeadphonesApple Airpods Headphon...</td>\n",
       "      <td>11153</td>\n",
       "      <td>1809873.61</td>\n",
       "      <td>04/21/19 07:2104/11/19 16:5904/20/19 20:5304/0...</td>\n",
       "      <td>600 Maple St, Austin, TX 73301267 11th St, Aus...</td>\n",
       "      <td>1819581.75</td>\n",
       "      <td>69829</td>\n",
       "    </tr>\n",
       "    <tr>\n",
       "      <th>2</th>\n",
       "      <td>Boston MA</td>\n",
       "      <td>1765591765661765781765811765851765851766001766...</td>\n",
       "      <td>Bose SoundSport HeadphonesWired HeadphonesAppl...</td>\n",
       "      <td>22528</td>\n",
       "      <td>3637409.77</td>\n",
       "      <td>04/07/19 22:3004/08/19 14:0504/09/19 23:3504/0...</td>\n",
       "      <td>682 Chestnut St, Boston, MA 0221583 7th St, Bo...</td>\n",
       "      <td>3661642.01</td>\n",
       "      <td>141112</td>\n",
       "    </tr>\n",
       "    <tr>\n",
       "      <th>3</th>\n",
       "      <td>Dallas TX</td>\n",
       "      <td>1765581765691765701765771765961766021766101766...</td>\n",
       "      <td>USB-C Charging Cable27in 4K Gaming MonitorAA B...</td>\n",
       "      <td>16730</td>\n",
       "      <td>2752627.82</td>\n",
       "      <td>04/19/19 08:4604/16/19 19:2304/22/19 15:0904/0...</td>\n",
       "      <td>917 1st St, Dallas, TX 75001657 Hill St, Dalla...</td>\n",
       "      <td>2767975.40</td>\n",
       "      <td>104620</td>\n",
       "    </tr>\n",
       "    <tr>\n",
       "      <th>4</th>\n",
       "      <td>Los Angeles CA</td>\n",
       "      <td>1765601765601765611765671765741765741765761765...</td>\n",
       "      <td>Google PhoneWired HeadphonesWired HeadphonesGo...</td>\n",
       "      <td>33289</td>\n",
       "      <td>5421435.23</td>\n",
       "      <td>04/12/19 14:3804/12/19 14:3804/30/19 09:2704/1...</td>\n",
       "      <td>669 Spruce St, Los Angeles, CA 90001669 Spruce...</td>\n",
       "      <td>5452570.80</td>\n",
       "      <td>208325</td>\n",
       "    </tr>\n",
       "    <tr>\n",
       "      <th>5</th>\n",
       "      <td>New York City NY</td>\n",
       "      <td>1765721765751765791765901765991766131766371766...</td>\n",
       "      <td>Apple Airpods HeadphonesAAA Batteries (4-pack)...</td>\n",
       "      <td>27932</td>\n",
       "      <td>4635370.83</td>\n",
       "      <td>04/04/19 20:3004/27/19 00:3004/11/19 10:2304/1...</td>\n",
       "      <td>149 Dogwood St, New York City, NY 10001433 Hil...</td>\n",
       "      <td>4664317.43</td>\n",
       "      <td>175741</td>\n",
       "    </tr>\n",
       "    <tr>\n",
       "      <th>6</th>\n",
       "      <td>Portland ME</td>\n",
       "      <td>1767731768791769091770721772301772331772991773...</td>\n",
       "      <td>AAA Batteries (4-pack)Flatscreen TVWired Headp...</td>\n",
       "      <td>2750</td>\n",
       "      <td>447189.25</td>\n",
       "      <td>04/25/19 20:0704/13/19 14:1504/22/19 09:5304/0...</td>\n",
       "      <td>30 9th St, Portland, ME 04101370 Sunset St, Po...</td>\n",
       "      <td>449758.27</td>\n",
       "      <td>17144</td>\n",
       "    </tr>\n",
       "    <tr>\n",
       "      <th>7</th>\n",
       "      <td>Portland OR</td>\n",
       "      <td>1765831765931766171766421766461766481766621767...</td>\n",
       "      <td>AAA Batteries (4-pack)Lightning Charging Cable...</td>\n",
       "      <td>11303</td>\n",
       "      <td>1860558.22</td>\n",
       "      <td>04/20/19 12:0004/15/19 13:4504/25/19 08:0304/1...</td>\n",
       "      <td>146 Jackson St, Portland, OR 97035906 7th St, ...</td>\n",
       "      <td>1870732.34</td>\n",
       "      <td>70621</td>\n",
       "    </tr>\n",
       "    <tr>\n",
       "      <th>8</th>\n",
       "      <td>San Francisco CA</td>\n",
       "      <td>1765621765651765731765841765861765861765941765...</td>\n",
       "      <td>USB-C Charging CableMacbook Pro LaptopUSB-C Ch...</td>\n",
       "      <td>50239</td>\n",
       "      <td>8211461.74</td>\n",
       "      <td>04/29/19 13:0304/24/19 10:3804/27/19 18:4104/2...</td>\n",
       "      <td>381 Wilson St, San Francisco, CA 94016915 Will...</td>\n",
       "      <td>8262203.91</td>\n",
       "      <td>315520</td>\n",
       "    </tr>\n",
       "    <tr>\n",
       "      <th>9</th>\n",
       "      <td>Seattle WA</td>\n",
       "      <td>1765631765681765881766121766241766541766631766...</td>\n",
       "      <td>Bose SoundSport HeadphonesLightning Charging C...</td>\n",
       "      <td>16553</td>\n",
       "      <td>2733296.01</td>\n",
       "      <td>04/02/19 07:4604/15/19 12:1804/02/19 04:0004/0...</td>\n",
       "      <td>668 Center St, Seattle, WA 98101438 Elm St, Se...</td>\n",
       "      <td>2747755.48</td>\n",
       "      <td>104941</td>\n",
       "    </tr>\n",
       "  </tbody>\n",
       "</table>\n",
       "</div>"
      ],
      "text/plain": [
       "                Town                                           Order ID  \\\n",
       "0         Atlanta GA  1765641765711765821765891766231766271766341766...   \n",
       "1          Austin TX  1765911766091766741766771766861767011767051767...   \n",
       "2          Boston MA  1765591765661765781765811765851765851766001766...   \n",
       "3          Dallas TX  1765581765691765701765771765961766021766101766...   \n",
       "4     Los Angeles CA  1765601765601765611765671765741765741765761765...   \n",
       "5   New York City NY  1765721765751765791765901765991766131766371766...   \n",
       "6        Portland ME  1767731768791769091770721772301772331772991773...   \n",
       "7        Portland OR  1765831765931766171766421766461766481766621767...   \n",
       "8   San Francisco CA  1765621765651765731765841765861765861765941765...   \n",
       "9         Seattle WA  1765631765681765881766121766241766541766631766...   \n",
       "\n",
       "                                             Product  Quantity Ordered  \\\n",
       "0  USB-C Charging CableLightning Charging CableBo...             16602   \n",
       "1  Apple Airpods HeadphonesApple Airpods Headphon...             11153   \n",
       "2  Bose SoundSport HeadphonesWired HeadphonesAppl...             22528   \n",
       "3  USB-C Charging Cable27in 4K Gaming MonitorAA B...             16730   \n",
       "4  Google PhoneWired HeadphonesWired HeadphonesGo...             33289   \n",
       "5  Apple Airpods HeadphonesAAA Batteries (4-pack)...             27932   \n",
       "6  AAA Batteries (4-pack)Flatscreen TVWired Headp...              2750   \n",
       "7  AAA Batteries (4-pack)Lightning Charging Cable...             11303   \n",
       "8  USB-C Charging CableMacbook Pro LaptopUSB-C Ch...             50239   \n",
       "9  Bose SoundSport HeadphonesLightning Charging C...             16553   \n",
       "\n",
       "   Price Each                                         Order Date  \\\n",
       "0  2779908.20  04/12/19 10:5804/19/19 14:2904/27/19 12:2004/0...   \n",
       "1  1809873.61  04/21/19 07:2104/11/19 16:5904/20/19 20:5304/0...   \n",
       "2  3637409.77  04/07/19 22:3004/08/19 14:0504/09/19 23:3504/0...   \n",
       "3  2752627.82  04/19/19 08:4604/16/19 19:2304/22/19 15:0904/0...   \n",
       "4  5421435.23  04/12/19 14:3804/12/19 14:3804/30/19 09:2704/1...   \n",
       "5  4635370.83  04/04/19 20:3004/27/19 00:3004/11/19 10:2304/1...   \n",
       "6   447189.25  04/25/19 20:0704/13/19 14:1504/22/19 09:5304/0...   \n",
       "7  1860558.22  04/20/19 12:0004/15/19 13:4504/25/19 08:0304/1...   \n",
       "8  8211461.74  04/29/19 13:0304/24/19 10:3804/27/19 18:4104/2...   \n",
       "9  2733296.01  04/02/19 07:4604/15/19 12:1804/02/19 04:0004/0...   \n",
       "\n",
       "                                    Purchase Address       Sales   Month  \n",
       "0  790 Ridge St, Atlanta, GA 30301253 Johnson St,...  2795498.58  104794  \n",
       "1  600 Maple St, Austin, TX 73301267 11th St, Aus...  1819581.75   69829  \n",
       "2  682 Chestnut St, Boston, MA 0221583 7th St, Bo...  3661642.01  141112  \n",
       "3  917 1st St, Dallas, TX 75001657 Hill St, Dalla...  2767975.40  104620  \n",
       "4  669 Spruce St, Los Angeles, CA 90001669 Spruce...  5452570.80  208325  \n",
       "5  149 Dogwood St, New York City, NY 10001433 Hil...  4664317.43  175741  \n",
       "6  30 9th St, Portland, ME 04101370 Sunset St, Po...   449758.27   17144  \n",
       "7  146 Jackson St, Portland, OR 97035906 7th St, ...  1870732.34   70621  \n",
       "8  381 Wilson St, San Francisco, CA 94016915 Will...  8262203.91  315520  \n",
       "9  668 Center St, Seattle, WA 98101438 Elm St, Se...  2747755.48  104941  "
      ]
     },
     "execution_count": 30,
     "metadata": {},
     "output_type": "execute_result"
    }
   ],
   "source": [
    "results"
   ]
  },
  {
   "cell_type": "code",
   "execution_count": 31,
   "id": "a0b68a18-1641-4dfa-a3b0-039ae3c23fc8",
   "metadata": {
    "tags": []
   },
   "outputs": [
    {
     "data": {
      "image/png": "[encoded data removed]",
      "text/plain": [
       "<Figure size 640x480 with 1 Axes>"
      ]
     },
     "metadata": {},
     "output_type": "display_data"
    }
   ],
   "source": [
    "towns =df['Town'].unique()\n",
    "\n",
    "plt.bar(towns, results['Sales'])\n",
    "plt.xticks(towns,rotation='vertical')\n",
    "plt.ylabel('sales in USD ($)')\n",
    "plt.xlabel('towns')\n",
    "plt.show()"
   ]
  },
  {
   "cell_type": "code",
   "execution_count": 32,
   "id": "452903b2-3c6f-404f-a424-d424c6dc9ea5",
   "metadata": {
    "tags": []
   },
   "outputs": [
    {
     "name": "stderr",
     "output_type": "stream",
     "text": [
      "C:\\Users\\Strange\\AppData\\Local\\Temp\\ipykernel_5300\\3072535395.py:1: UserWarning: Could not infer format, so each element will be parsed individually, falling back to `dateutil`. To ensure parsing is consistent and as-expected, please specify a format.\n",
      "  df['Order Date'] = pd.to_datetime(df['Order Date'])\n"
     ]
    }
   ],
   "source": [
    "df['Order Date'] = pd.to_datetime(df['Order Date'])"
   ]
  },
  {
   "cell_type": "code",
   "execution_count": 33,
   "id": "3ce5fbe0-e275-49d3-a76c-15d5eb423167",
   "metadata": {
    "tags": []
   },
   "outputs": [
    {
     "data": {
      "text/html": [
       "<div>\n",
       "<style scoped>\n",
       "    .dataframe tbody tr th:only-of-type {\n",
       "        vertical-align: middle;\n",
       "    }\n",
       "\n",
       "    .dataframe tbody tr th {\n",
       "        vertical-align: top;\n",
       "    }\n",
       "\n",
       "    .dataframe thead th {\n",
       "        text-align: right;\n",
       "    }\n",
       "</style>\n",
       "<table border=\"1\" class=\"dataframe\">\n",
       "  <thead>\n",
       "    <tr style=\"text-align: right;\">\n",
       "      <th></th>\n",
       "      <th>Order ID</th>\n",
       "      <th>Product</th>\n",
       "      <th>Quantity Ordered</th>\n",
       "      <th>Price Each</th>\n",
       "      <th>Order Date</th>\n",
       "      <th>Purchase Address</th>\n",
       "      <th>Sales</th>\n",
       "      <th>Month</th>\n",
       "      <th>Town</th>\n",
       "    </tr>\n",
       "  </thead>\n",
       "  <tbody>\n",
       "    <tr>\n",
       "      <th>0</th>\n",
       "      <td>176558</td>\n",
       "      <td>USB-C Charging Cable</td>\n",
       "      <td>2</td>\n",
       "      <td>11.95</td>\n",
       "      <td>2019-04-19 08:46:00</td>\n",
       "      <td>917 1st St, Dallas, TX 75001</td>\n",
       "      <td>23.90</td>\n",
       "      <td>4</td>\n",
       "      <td>Dallas TX</td>\n",
       "    </tr>\n",
       "    <tr>\n",
       "      <th>1</th>\n",
       "      <td>176559</td>\n",
       "      <td>Bose SoundSport Headphones</td>\n",
       "      <td>1</td>\n",
       "      <td>99.99</td>\n",
       "      <td>2019-04-07 22:30:00</td>\n",
       "      <td>682 Chestnut St, Boston, MA 02215</td>\n",
       "      <td>99.99</td>\n",
       "      <td>4</td>\n",
       "      <td>Boston MA</td>\n",
       "    </tr>\n",
       "    <tr>\n",
       "      <th>2</th>\n",
       "      <td>176560</td>\n",
       "      <td>Google Phone</td>\n",
       "      <td>1</td>\n",
       "      <td>600.00</td>\n",
       "      <td>2019-04-12 14:38:00</td>\n",
       "      <td>669 Spruce St, Los Angeles, CA 90001</td>\n",
       "      <td>600.00</td>\n",
       "      <td>4</td>\n",
       "      <td>Los Angeles CA</td>\n",
       "    </tr>\n",
       "    <tr>\n",
       "      <th>3</th>\n",
       "      <td>176560</td>\n",
       "      <td>Wired Headphones</td>\n",
       "      <td>1</td>\n",
       "      <td>11.99</td>\n",
       "      <td>2019-04-12 14:38:00</td>\n",
       "      <td>669 Spruce St, Los Angeles, CA 90001</td>\n",
       "      <td>11.99</td>\n",
       "      <td>4</td>\n",
       "      <td>Los Angeles CA</td>\n",
       "    </tr>\n",
       "    <tr>\n",
       "      <th>4</th>\n",
       "      <td>176561</td>\n",
       "      <td>Wired Headphones</td>\n",
       "      <td>1</td>\n",
       "      <td>11.99</td>\n",
       "      <td>2019-04-30 09:27:00</td>\n",
       "      <td>333 8th St, Los Angeles, CA 90001</td>\n",
       "      <td>11.99</td>\n",
       "      <td>4</td>\n",
       "      <td>Los Angeles CA</td>\n",
       "    </tr>\n",
       "  </tbody>\n",
       "</table>\n",
       "</div>"
      ],
      "text/plain": [
       "  Order ID                     Product  Quantity Ordered  Price Each  \\\n",
       "0   176558        USB-C Charging Cable                 2       11.95   \n",
       "1   176559  Bose SoundSport Headphones                 1       99.99   \n",
       "2   176560                Google Phone                 1      600.00   \n",
       "3   176560            Wired Headphones                 1       11.99   \n",
       "4   176561            Wired Headphones                 1       11.99   \n",
       "\n",
       "           Order Date                      Purchase Address   Sales  Month  \\\n",
       "0 2019-04-19 08:46:00          917 1st St, Dallas, TX 75001   23.90      4   \n",
       "1 2019-04-07 22:30:00     682 Chestnut St, Boston, MA 02215   99.99      4   \n",
       "2 2019-04-12 14:38:00  669 Spruce St, Los Angeles, CA 90001  600.00      4   \n",
       "3 2019-04-12 14:38:00  669 Spruce St, Los Angeles, CA 90001   11.99      4   \n",
       "4 2019-04-30 09:27:00     333 8th St, Los Angeles, CA 90001   11.99      4   \n",
       "\n",
       "              Town  \n",
       "0        Dallas TX  \n",
       "1        Boston MA  \n",
       "2   Los Angeles CA  \n",
       "3   Los Angeles CA  \n",
       "4   Los Angeles CA  "
      ]
     },
     "execution_count": 33,
     "metadata": {},
     "output_type": "execute_result"
    }
   ],
   "source": [
    "df.head()"
   ]
  },
  {
   "cell_type": "code",
   "execution_count": 34,
   "id": "8c3ae89f-57fe-4d3a-99ea-cc95ef7a5910",
   "metadata": {
    "tags": []
   },
   "outputs": [],
   "source": [
    "df['hour'] = df['Order Date'].dt.hour"
   ]
  },
  {
   "cell_type": "code",
   "execution_count": 35,
   "id": "bc62a013-3476-4e99-9f41-3e475dc58410",
   "metadata": {
    "tags": []
   },
   "outputs": [],
   "source": [
    "meow = df.drop('hour',axis=1).copy()\n",
    "meow = meow.drop('Order Date',axis=1).copy()\n",
    "results_by_product = meow.groupby('Product').sum()\n",
    "results_by_product = results_by_product.reset_index()"
   ]
  },
  {
   "cell_type": "code",
   "execution_count": 36,
   "id": "99780bc2-4a93-4af8-b521-125af7e89e62",
   "metadata": {
    "tags": []
   },
   "outputs": [
    {
     "data": {
      "text/html": [
       "<div>\n",
       "<style scoped>\n",
       "    .dataframe tbody tr th:only-of-type {\n",
       "        vertical-align: middle;\n",
       "    }\n",
       "\n",
       "    .dataframe tbody tr th {\n",
       "        vertical-align: top;\n",
       "    }\n",
       "\n",
       "    .dataframe thead th {\n",
       "        text-align: right;\n",
       "    }\n",
       "</style>\n",
       "<table border=\"1\" class=\"dataframe\">\n",
       "  <thead>\n",
       "    <tr style=\"text-align: right;\">\n",
       "      <th></th>\n",
       "      <th>Product</th>\n",
       "      <th>Order ID</th>\n",
       "      <th>Quantity Ordered</th>\n",
       "      <th>Price Each</th>\n",
       "      <th>Purchase Address</th>\n",
       "      <th>Sales</th>\n",
       "      <th>Month</th>\n",
       "      <th>Town</th>\n",
       "      <th>hour</th>\n",
       "    </tr>\n",
       "  </thead>\n",
       "  <tbody>\n",
       "    <tr>\n",
       "      <th>0</th>\n",
       "      <td>20in Monitor</td>\n",
       "      <td>1765881766591766731766901767031767101767331767...</td>\n",
       "      <td>4129</td>\n",
       "      <td>451068.99</td>\n",
       "      <td>765 Cherry St, Seattle, WA 98101804 Church St,...</td>\n",
       "      <td>454148.71</td>\n",
       "      <td>29336</td>\n",
       "      <td>Seattle WA Dallas TX Boston MA San Francisco ...</td>\n",
       "      <td>58764</td>\n",
       "    </tr>\n",
       "    <tr>\n",
       "      <th>1</th>\n",
       "      <td>27in 4K Gaming Monitor</td>\n",
       "      <td>1765691766001766671767221767231767431767461767...</td>\n",
       "      <td>6244</td>\n",
       "      <td>2429637.70</td>\n",
       "      <td>657 Hill St, Dallas, TX 7500187 West St, Bosto...</td>\n",
       "      <td>2435097.56</td>\n",
       "      <td>44440</td>\n",
       "      <td>Dallas TX Boston MA Los Angeles CA New York C...</td>\n",
       "      <td>90916</td>\n",
       "    </tr>\n",
       "    <tr>\n",
       "      <th>2</th>\n",
       "      <td>27in FHD Monitor</td>\n",
       "      <td>1765871766231766481766691767351767561767791768...</td>\n",
       "      <td>7550</td>\n",
       "      <td>1125974.93</td>\n",
       "      <td>557 5th St, Los Angeles, CA 90001807 12th St, ...</td>\n",
       "      <td>1132424.50</td>\n",
       "      <td>52558</td>\n",
       "      <td>Los Angeles CA Atlanta GA Portland OR Dallas ...</td>\n",
       "      <td>107540</td>\n",
       "    </tr>\n",
       "    <tr>\n",
       "      <th>3</th>\n",
       "      <td>34in Ultrawide Monitor</td>\n",
       "      <td>1766621766771766851767001767391767541767581767...</td>\n",
       "      <td>6199</td>\n",
       "      <td>2348718.19</td>\n",
       "      <td>678 Hickory St, Portland, OR 97035661 Washingt...</td>\n",
       "      <td>2355558.01</td>\n",
       "      <td>43304</td>\n",
       "      <td>Portland OR Austin TX New York City NY Dallas...</td>\n",
       "      <td>89076</td>\n",
       "    </tr>\n",
       "    <tr>\n",
       "      <th>4</th>\n",
       "      <td>AA Batteries (4-pack)</td>\n",
       "      <td>1765701765791766141766221766241766361766421766...</td>\n",
       "      <td>27635</td>\n",
       "      <td>79015.68</td>\n",
       "      <td>186 12th St, Dallas, TX 75001886 Jefferson St,...</td>\n",
       "      <td>106118.40</td>\n",
       "      <td>145558</td>\n",
       "      <td>Dallas TX New York City NY San Francisco CA S...</td>\n",
       "      <td>298342</td>\n",
       "    </tr>\n",
       "  </tbody>\n",
       "</table>\n",
       "</div>"
      ],
      "text/plain": [
       "                  Product                                           Order ID  \\\n",
       "0            20in Monitor  1765881766591766731766901767031767101767331767...   \n",
       "1  27in 4K Gaming Monitor  1765691766001766671767221767231767431767461767...   \n",
       "2        27in FHD Monitor  1765871766231766481766691767351767561767791768...   \n",
       "3  34in Ultrawide Monitor  1766621766771766851767001767391767541767581767...   \n",
       "4   AA Batteries (4-pack)  1765701765791766141766221766241766361766421766...   \n",
       "\n",
       "   Quantity Ordered  Price Each  \\\n",
       "0              4129   451068.99   \n",
       "1              6244  2429637.70   \n",
       "2              7550  1125974.93   \n",
       "3              6199  2348718.19   \n",
       "4             27635    79015.68   \n",
       "\n",
       "                                    Purchase Address       Sales   Month  \\\n",
       "0  765 Cherry St, Seattle, WA 98101804 Church St,...   454148.71   29336   \n",
       "1  657 Hill St, Dallas, TX 7500187 West St, Bosto...  2435097.56   44440   \n",
       "2  557 5th St, Los Angeles, CA 90001807 12th St, ...  1132424.50   52558   \n",
       "3  678 Hickory St, Portland, OR 97035661 Washingt...  2355558.01   43304   \n",
       "4  186 12th St, Dallas, TX 75001886 Jefferson St,...   106118.40  145558   \n",
       "\n",
       "                                                Town    hour  \n",
       "0   Seattle WA Dallas TX Boston MA San Francisco ...   58764  \n",
       "1   Dallas TX Boston MA Los Angeles CA New York C...   90916  \n",
       "2   Los Angeles CA Atlanta GA Portland OR Dallas ...  107540  \n",
       "3   Portland OR Austin TX New York City NY Dallas...   89076  \n",
       "4   Dallas TX New York City NY San Francisco CA S...  298342  "
      ]
     },
     "execution_count": 36,
     "metadata": {},
     "output_type": "execute_result"
    }
   ],
   "source": [
    "results_by_product.head()"
   ]
  },
  {
   "cell_type": "code",
   "execution_count": 37,
   "id": "815c0f26-3054-46a9-bd2d-98eda1945ec1",
   "metadata": {
    "tags": []
   },
   "outputs": [
    {
     "data": {
      "image/png": "[encoded data removed]",
      "text/plain": [
       "<Figure size 640x480 with 1 Axes>"
      ]
     },
     "metadata": {},
     "output_type": "display_data"
    }
   ],
   "source": [
    "products =  [Product for Product, df in df.groupby('Product')]\n",
    "\n",
    "plt.plot(products, results_by_product['Quantity Ordered'])\n",
    "plt.xticks(products, rotation='vertical')\n",
    "plt.grid()\n",
    "plt.ylabel('quantity ordered')\n",
    "plt.xlabel('products')\n",
    "plt.show()"
   ]
  },
  {
   "cell_type": "code",
   "execution_count": 70,
   "id": "480f7c5a-c804-4ecb-b6cf-f3ce27db5b78",
   "metadata": {
    "tags": []
   },
   "outputs": [],
   "source": [
    "meow = df.drop('hour',axis=1).copy()\n",
    "meow = meow.drop('Order Date',axis=1).copy()\n",
    "prices =  meow.groupby('Product')['Price Each'].mean()\n",
    "\n",
    "\n",
    "product_group = df.groupby('Product')\n",
    "quantity_ordered = product_group['Quantity Ordered'].sum()\n",
    "products =  [Product for Product, df in product_group]"
   ]
  },
  {
   "cell_type": "code",
   "execution_count": 66,
   "id": "c5a85920-aa25-475e-9760-2d77e1422b72",
   "metadata": {
    "tags": []
   },
   "outputs": [
    {
     "name": "stdout",
     "output_type": "stream",
     "text": [
      "Product\n",
      "20in Monitor                   4129\n",
      "27in 4K Gaming Monitor         6244\n",
      "27in FHD Monitor               7550\n",
      "34in Ultrawide Monitor         6199\n",
      "AA Batteries (4-pack)         27635\n",
      "AAA Batteries (4-pack)        31017\n",
      "Apple Airpods Headphones      15661\n",
      "Bose SoundSport Headphones    13457\n",
      "Flatscreen TV                  4819\n",
      "Google Phone                   5532\n",
      "LG Dryer                        646\n",
      "LG Washing Machine              666\n",
      "Lightning Charging Cable      23217\n",
      "Macbook Pro Laptop             4728\n",
      "ThinkPad Laptop                4130\n",
      "USB-C Charging Cable          23975\n",
      "Vareebadd Phone                2068\n",
      "Wired Headphones              20557\n",
      "iPhone                         6849\n",
      "Name: Quantity Ordered, dtype: int64\n"
     ]
    }
   ],
   "source": [
    "print(quantity_ordered)"
   ]
  },
  {
   "cell_type": "code",
   "execution_count": 76,
   "id": "a54eca24-e861-4d9a-a2fb-8d7945f84b7a",
   "metadata": {
    "tags": []
   },
   "outputs": [
    {
     "name": "stderr",
     "output_type": "stream",
     "text": [
      "C:\\Users\\Strange\\AppData\\Local\\Temp\\ipykernel_5300\\2346960895.py:10: UserWarning: FixedFormatter should only be used together with FixedLocator\n",
      "  ax1.set_xticklabels(products, rotation='vertical',size=8)\n"
     ]
    },
    {
     "data": {
      "image/png": "[encoded data removed]",
      "text/plain": [
       "<Figure size 640x480 with 2 Axes>"
      ]
     },
     "metadata": {},
     "output_type": "display_data"
    }
   ],
   "source": [
    "\n",
    "fig, ax1 = plt.subplots()\n",
    "\n",
    "ax2=ax1.twinx()\n",
    "ax1.bar(products,quantity_ordered)\n",
    "ax2.plot(products,prices,'b-')\n",
    "\n",
    "ax1.set_xlabel('Product Name')\n",
    "ax1.set_ylabel('Quantity ordered', color='g')\n",
    "ax2.set_ylabel('Prices of the order', color='b')\n",
    "ax1.set_xticklabels(products, rotation='vertical',size=8)\n",
    "\n",
    "plt.show()"
   ]
  },
  {
   "cell_type": "code",
   "execution_count": 38,
   "id": "fb4794ad-5e0f-40c3-9b79-f6030339a95e",
   "metadata": {
    "tags": []
   },
   "outputs": [
    {
     "data": {
      "text/html": [
       "<div>\n",
       "<style scoped>\n",
       "    .dataframe tbody tr th:only-of-type {\n",
       "        vertical-align: middle;\n",
       "    }\n",
       "\n",
       "    .dataframe tbody tr th {\n",
       "        vertical-align: top;\n",
       "    }\n",
       "\n",
       "    .dataframe thead th {\n",
       "        text-align: right;\n",
       "    }\n",
       "</style>\n",
       "<table border=\"1\" class=\"dataframe\">\n",
       "  <thead>\n",
       "    <tr style=\"text-align: right;\">\n",
       "      <th></th>\n",
       "      <th>Order ID</th>\n",
       "      <th>Grouped</th>\n",
       "    </tr>\n",
       "  </thead>\n",
       "  <tbody>\n",
       "    <tr>\n",
       "      <th>2</th>\n",
       "      <td>176560</td>\n",
       "      <td>Google Phone,Wired Headphones</td>\n",
       "    </tr>\n",
       "    <tr>\n",
       "      <th>17</th>\n",
       "      <td>176574</td>\n",
       "      <td>Google Phone,USB-C Charging Cable</td>\n",
       "    </tr>\n",
       "    <tr>\n",
       "      <th>29</th>\n",
       "      <td>176585</td>\n",
       "      <td>Bose SoundSport Headphones,Bose SoundSport Hea...</td>\n",
       "    </tr>\n",
       "    <tr>\n",
       "      <th>31</th>\n",
       "      <td>176586</td>\n",
       "      <td>AAA Batteries (4-pack),Google Phone</td>\n",
       "    </tr>\n",
       "    <tr>\n",
       "      <th>118</th>\n",
       "      <td>176672</td>\n",
       "      <td>Lightning Charging Cable,USB-C Charging Cable</td>\n",
       "    </tr>\n",
       "  </tbody>\n",
       "</table>\n",
       "</div>"
      ],
      "text/plain": [
       "    Order ID                                            Grouped\n",
       "2     176560                      Google Phone,Wired Headphones\n",
       "17    176574                  Google Phone,USB-C Charging Cable\n",
       "29    176585  Bose SoundSport Headphones,Bose SoundSport Hea...\n",
       "31    176586                AAA Batteries (4-pack),Google Phone\n",
       "118   176672      Lightning Charging Cable,USB-C Charging Cable"
      ]
     },
     "execution_count": 38,
     "metadata": {},
     "output_type": "execute_result"
    }
   ],
   "source": [
    "stuff = df[df['Order ID'].duplicated(keep=False)].copy()\n",
    "stuff['Grouped'] = stuff.groupby('Order ID')['Product'].transform(lambda x: ','.join(x))\n",
    "stuff = stuff[['Order ID','Grouped']].drop_duplicates()\n",
    "\n",
    "stuff.head()"
   ]
  },
  {
   "cell_type": "code",
   "execution_count": 51,
   "id": "8c1ce3ce-4b30-4594-91e6-92183c40acc6",
   "metadata": {
    "tags": []
   },
   "outputs": [],
   "source": [
    "from itertools import combinations\n",
    "from collections import Counter\n",
    "\n",
    "count = Counter()\n",
    "\n",
    "for row in stuff['Grouped']:\n",
    "    row_list=row.split(',')\n",
    "    count.update(Counter(combinations(row_list,2)))\n"
   ]
  },
  {
   "cell_type": "code",
   "execution_count": 52,
   "id": "d7bb4c54-593b-4782-900e-0bb51f9e5be0",
   "metadata": {
    "tags": []
   },
   "outputs": [
    {
     "data": {
      "text/plain": [
       "[(('iPhone', 'Lightning Charging Cable'), 1005),\n",
       " (('Google Phone', 'USB-C Charging Cable'), 987),\n",
       " (('iPhone', 'Wired Headphones'), 447),\n",
       " (('Google Phone', 'Wired Headphones'), 414),\n",
       " (('Vareebadd Phone', 'USB-C Charging Cable'), 361),\n",
       " (('iPhone', 'Apple Airpods Headphones'), 360),\n",
       " (('Google Phone', 'Bose SoundSport Headphones'), 220),\n",
       " (('USB-C Charging Cable', 'Wired Headphones'), 160),\n",
       " (('Vareebadd Phone', 'Wired Headphones'), 143),\n",
       " (('Lightning Charging Cable', 'Wired Headphones'), 92),\n",
       " (('Lightning Charging Cable', 'Apple Airpods Headphones'), 81),\n",
       " (('Vareebadd Phone', 'Bose SoundSport Headphones'), 80),\n",
       " (('USB-C Charging Cable', 'Bose SoundSport Headphones'), 77),\n",
       " (('Apple Airpods Headphones', 'Wired Headphones'), 69),\n",
       " (('Lightning Charging Cable', 'USB-C Charging Cable'), 58),\n",
       " (('Lightning Charging Cable', 'AA Batteries (4-pack)'), 55),\n",
       " (('Lightning Charging Cable', 'Lightning Charging Cable'), 54),\n",
       " (('Bose SoundSport Headphones', 'Wired Headphones'), 53),\n",
       " (('AA Batteries (4-pack)', 'Lightning Charging Cable'), 51),\n",
       " (('AAA Batteries (4-pack)', 'USB-C Charging Cable'), 50)]"
      ]
     },
     "execution_count": 52,
     "metadata": {},
     "output_type": "execute_result"
    }
   ],
   "source": [
    "count.most_common(20)"
   ]
  },
  {
   "cell_type": "markdown",
   "id": "ba0749ef-44b9-4422-9d1b-de2c7e579798",
   "metadata": {},
   "source": [
    "ТАК. МНЕ СРОЧНО НУЖНО НАЙТИ КАК ПРОДЛЕВАТЬ ГРАФИКИ.\n",
    "\n",
    "Итого:\n",
    "\n",
    "Для эффективной работы нам необходимо:\n",
    "\n",
    "Понять, какие вопросы нам заданы и то, как ответить на них из датасета, что у нас на данный момент находится на руках.\n",
    "\n",
    "Т.е эти самые:\n",
    "\n",
    "Основная инфа о исследовании\n",
    "\n",
    "Основные инструменты, что были использованы\n",
    "\n",
    "Решения и находки\n",
    "\n",
    "Решения\n",
    "    Что было сделано, зачем, почему, для чего и как это принесёт выгоду\n",
    "    \n",
    "Находки\n",
    "    То, какие зависимости были найдены в данных и как они коррелируют с прибылью для компаний.\n",
    "    \n",
    "\n",
    "По сути основная работа:\n",
    "\n",
    "Определение проблемы и постановка вопросов, что необходимо решить, да найти в данных\n",
    "Рассмотрение датасета и определение его основных моментов(где данных много, где их мало, почему их мало, какие данные здесь имеются, какие даты, что происходило в стране и в мире в данный момент)\n",
    "Определение того, что при случае нужно будет обрабатывать, какие кореляции уже находит машина на данный момент в численных данных, что находятся в Датасетах.\n",
    "Чистка датасетов от Нанов, определение переменных, удаление частей, перевод данных в определенные форматы\n",
    "(Прикидывание разницы между нарезанными данными и не нарезанными)\n",
    "Нарезка данных\n",
    "Нахождение взаимосвязей уже на графиках самих датасетов.\n",
    "Выведение нужных графиков, по данным нарезанным, с ответом на вопросы\n",
    "Нахождение того, насколько отличаются нарезанные данные от ненарезанных.\n",
    "Кластеризация. Определение того, что там машина вообще на кластеризировала и по каким параметрам. \n",
    "Подбитие кластеризации по наиболее лучшим параметрам\n",
    "Подбитие графиков по кластерам\n",
    "Планировка модели и необходимости её тренировки.\n",
    "Создание базовых моделей.\n",
    "Выбор методик для тренировки моделей.\n",
    "Нарезка датасета на тренировочные части\n",
    "Подбитие точности, до предела.\n",
    "Выгрузка модели\n",
    "Написание API и WebAPI\n",
    "Подсоединение туда модели.\n",
    "Презентация.\n",
    "\n",
    "\n"
   ]
  }
 ],
 "metadata": {
  "kernelspec": {
   "display_name": "Python 3 (ipykernel)",
   "language": "python",
   "name": "python3"
  },
  "language_info": {
   "codemirror_mode": {
    "name": "ipython",
    "version": 3
   },
   "file_extension": ".py",
   "mimetype": "text/x-python",
   "name": "python",
   "nbconvert_exporter": "python",
   "pygments_lexer": "ipython3",
   "version": "3.11.8"
  }
 },
 "nbformat": 4,
 "nbformat_minor": 5
}
