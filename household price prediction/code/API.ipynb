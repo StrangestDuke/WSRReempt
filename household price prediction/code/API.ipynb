{
 "cells": [
  {
   "cell_type": "code",
   "execution_count": 1,
   "id": "bdb5b3eb-0e7d-4a19-bc6e-41370c807871",
   "metadata": {
    "tags": []
   },
   "outputs": [],
   "source": [
    "import pandas as pd\n",
    "import pickle"
   ]
  },
  {
   "cell_type": "code",
   "execution_count": 2,
   "id": "5266aa40-e112-4487-9074-d426af948a6d",
   "metadata": {
    "tags": []
   },
   "outputs": [],
   "source": [
    "with open(\"../db/df.pkl\", 'rb') as f:\n",
    "    df = pickle.load(f)\n",
    "with open('../model/rndf.pkl', 'rb') as f:\n",
    "    model = pickle.load(f)"
   ]
  },
  {
   "cell_type": "code",
   "execution_count": 3,
   "id": "0f0daae2-6f27-4ffb-8f13-5017b3e6dbfd",
   "metadata": {
    "tags": []
   },
   "outputs": [
    {
     "data": {
      "text/plain": [
       "Index(['Price', 'Area', 'No. of Bedrooms', 'Resale', 'MaintenanceStaff',\n",
       "       'Gymnasium', 'SwimmingPool', 'LandscapedGardens', 'JoggingTrack',\n",
       "       'RainWaterHarvesting', 'IndoorGames', 'ShoppingMall', 'Intercom',\n",
       "       'SportsFacility', 'ATM', 'ClubHouse', 'School', '24X7Security',\n",
       "       'PowerBackup', 'CarParking', 'StaffQuarter', 'Cafeteria',\n",
       "       'MultipurposeRoom', 'Hospital', 'WashingMachine', 'Gasconnection', 'AC',\n",
       "       'Wifi', 'Children'splayarea', 'LiftAvailable', 'BED', 'VaastuCompliant',\n",
       "       'Microwave', 'GolfCourse', 'TV', 'DiningTable', 'Sofa', 'Wardrobe',\n",
       "       'Stadium', 'Town_Bangalore', 'Town_Chennai', 'Town_Delhi',\n",
       "       'Town_Hyderabad', 'Town_Kolkata', 'Town_Mumbai'],\n",
       "      dtype='object')"
      ]
     },
     "execution_count": 3,
     "metadata": {},
     "output_type": "execute_result"
    }
   ],
   "source": [
    "df.columns"
   ]
  },
  {
   "cell_type": "code",
   "execution_count": 50,
   "id": "63c2e722-7fc0-4d66-8ed8-bb5136a72264",
   "metadata": {
    "tags": []
   },
   "outputs": [],
   "source": [
    "def balls(price):\n",
    "    \n",
    "    try:\n",
    "        df_element_higher = df[df['Price']> price].sample(n=1)\n",
    "    except:\n",
    "        df_element_higher = pd.DataFrame()\n",
    "        \n",
    "    try:\n",
    "        df_element_lower = df[df['Price']< price].sample(n=1)\n",
    "    except:\n",
    "        df_element_lower = pd.DataFrame()\n",
    "        \n",
    "    try:\n",
    "        df_element_same = df[df['Price'] == price].sample(n=1)\n",
    "    except:\n",
    "        df_element_same = pd.DataFrame()\n",
    "    \n",
    "    return [df_element_higher,df_element_lower,df_element_same]"
   ]
  },
  {
   "cell_type": "code",
   "execution_count": 43,
   "id": "ebb9b5ad-7838-4624-b064-e0e33841bd8a",
   "metadata": {
    "tags": []
   },
   "outputs": [
    {
     "data": {
      "text/html": [
       "<div>\n",
       "<style scoped>\n",
       "    .dataframe tbody tr th:only-of-type {\n",
       "        vertical-align: middle;\n",
       "    }\n",
       "\n",
       "    .dataframe tbody tr th {\n",
       "        vertical-align: top;\n",
       "    }\n",
       "\n",
       "    .dataframe thead th {\n",
       "        text-align: right;\n",
       "    }\n",
       "</style>\n",
       "<table border=\"1\" class=\"dataframe\">\n",
       "  <thead>\n",
       "    <tr style=\"text-align: right;\">\n",
       "      <th></th>\n",
       "    </tr>\n",
       "  </thead>\n",
       "  <tbody>\n",
       "  </tbody>\n",
       "</table>\n",
       "</div>"
      ],
      "text/plain": [
       "Empty DataFrame\n",
       "Columns: []\n",
       "Index: []"
      ]
     },
     "execution_count": 43,
     "metadata": {},
     "output_type": "execute_result"
    }
   ],
   "source": [
    "a = balls(19999999)\n",
    "a[2].head()"
   ]
  },
  {
   "cell_type": "code",
   "execution_count": null,
   "id": "d152f576-78be-4100-88f5-1785edda5b25",
   "metadata": {
    "tags": []
   },
   "outputs": [
    {
     "name": "stdout",
     "output_type": "stream",
     "text": [
      "{'Resale': <tkinter.Label object .!label3>, 'Resale_ent': <tkinter.Entry object .!entry>, 'MaintenanceStaff': <tkinter.Label object .!label4>, 'MaintenanceStaff_ent': <tkinter.Entry object .!entry2>, 'Gymnasium': <tkinter.Label object .!label5>, 'Gymnasium_ent': <tkinter.Entry object .!entry3>, 'SwimmingPool': <tkinter.Label object .!label6>, 'SwimmingPool_ent': <tkinter.Entry object .!entry4>, 'LandscapedGardens': <tkinter.Label object .!label7>, 'LandscapedGardens_ent': <tkinter.Entry object .!entry5>, 'JoggingTrack': <tkinter.Label object .!label8>, 'JoggingTrack_ent': <tkinter.Entry object .!entry6>, 'RainWaterHarvesting': <tkinter.Label object .!label9>, 'RainWaterHarvesting_ent': <tkinter.Entry object .!entry7>, 'IndoorGames': <tkinter.Label object .!label10>, 'IndoorGames_ent': <tkinter.Entry object .!entry8>, 'ShoppingMall': <tkinter.Label object .!label11>, 'ShoppingMall_ent': <tkinter.Entry object .!entry9>, 'Intercom': <tkinter.Label object .!label12>, 'Intercom_ent': <tkinter.Entry object .!entry10>, 'SportsFacility': <tkinter.Label object .!label13>, 'SportsFacility_ent': <tkinter.Entry object .!entry11>, 'ATM': <tkinter.Label object .!label14>, 'ATM_ent': <tkinter.Entry object .!entry12>, 'ClubHouse': <tkinter.Label object .!label15>, 'ClubHouse_ent': <tkinter.Entry object .!entry13>, 'School': <tkinter.Label object .!label16>, 'School_ent': <tkinter.Entry object .!entry14>, '24X7Security': <tkinter.Label object .!label17>, '24X7Security_ent': <tkinter.Entry object .!entry15>, 'PowerBackup': <tkinter.Label object .!label18>, 'PowerBackup_ent': <tkinter.Entry object .!entry16>, 'CarParking': <tkinter.Label object .!label19>, 'CarParking_ent': <tkinter.Entry object .!entry17>, 'StaffQuarter': <tkinter.Label object .!label20>, 'StaffQuarter_ent': <tkinter.Entry object .!entry18>, 'Cafeteria': <tkinter.Label object .!label21>, 'Cafeteria_ent': <tkinter.Entry object .!entry19>, 'MultipurposeRoom': <tkinter.Label object .!label22>, 'MultipurposeRoom_ent': <tkinter.Entry object .!entry20>, 'Hospital': <tkinter.Label object .!label23>, 'Hospital_ent': <tkinter.Entry object .!entry21>, 'WashingMachine': <tkinter.Label object .!label24>, 'WashingMachine_ent': <tkinter.Entry object .!entry22>, 'Gasconnection': <tkinter.Label object .!label25>, 'Gasconnection_ent': <tkinter.Entry object .!entry23>, 'AC': <tkinter.Label object .!label26>, 'AC_ent': <tkinter.Entry object .!entry24>, 'Wifi': <tkinter.Label object .!label27>, 'Wifi_ent': <tkinter.Entry object .!entry25>, \"Children'splayarea\": <tkinter.Label object .!label28>, \"Children'splayarea_ent\": <tkinter.Entry object .!entry26>, 'LiftAvailable': <tkinter.Label object .!label29>, 'LiftAvailable_ent': <tkinter.Entry object .!entry27>, 'BED': <tkinter.Label object .!label30>, 'BED_ent': <tkinter.Entry object .!entry28>, 'VaastuCompliant': <tkinter.Label object .!label31>, 'VaastuCompliant_ent': <tkinter.Entry object .!entry29>, 'Microwave': <tkinter.Label object .!label32>, 'Microwave_ent': <tkinter.Entry object .!entry30>, 'GolfCourse': <tkinter.Label object .!label33>, 'GolfCourse_ent': <tkinter.Entry object .!entry31>, 'TV': <tkinter.Label object .!label34>, 'TV_ent': <tkinter.Entry object .!entry32>, 'DiningTable': <tkinter.Label object .!label35>, 'DiningTable_ent': <tkinter.Entry object .!entry33>, 'Sofa': <tkinter.Label object .!label36>, 'Sofa_ent': <tkinter.Entry object .!entry34>, 'Wardrobe': <tkinter.Label object .!label37>, 'Wardrobe_ent': <tkinter.Entry object .!entry35>, 'Stadium': <tkinter.Label object .!label38>, 'Stadium_ent': <tkinter.Entry object .!entry36>}\n",
      "['4', '3340', 0, 0, 0, 0, 0, 0, 0, 0, 0, 0, 0, 0, 0, 0, 0, 0, 0, 0, 0, 0, 0, 0, 0, 0, 0, 0, 0, 0, 0, 0, 0, 0, 0, 0, 0, 0]\n",
      "   Town_Bangalore  Town_Chennai  Town_Delhi  Town_Hyderabad  Town_Kolkata  \\\n",
      "0               1             0           0               0             0   \n",
      "\n",
      "   Town_Mumbai  \n",
      "0            0  \n",
      "38\n",
      "  Area No. of Bedrooms  Resale  MaintenanceStaff  Gymnasium  SwimmingPool  \\\n",
      "0    4            3340       0                 0          0             0   \n",
      "\n",
      "   LandscapedGardens  JoggingTrack  RainWaterHarvesting  IndoorGames  ...  \\\n",
      "0                  0             0                    0            0  ...   \n",
      "\n",
      "   DiningTable  Sofa  Wardrobe  Stadium  Town_Bangalore  Town_Chennai  \\\n",
      "0            0     0         0        0               1             0   \n",
      "\n",
      "   Town_Delhi  Town_Hyderabad  Town_Kolkata  Town_Mumbai  \n",
      "0           0               0             0            0  \n",
      "\n",
      "[1 rows x 44 columns]\n"
     ]
    },
    {
     "name": "stderr",
     "output_type": "stream",
     "text": [
      "C:\\Users\\Strange\\AppData\\Local\\Temp\\ipykernel_9448\\481060439.py:79: DeprecationWarning: Conversion of an array with ndim > 0 to a scalar is deprecated, and will error in future. Ensure you extract a single element from your array before performing this operation. (Deprecated NumPy 1.25.)\n",
      "  df_elements = balls(int(price))\n"
     ]
    }
   ],
   "source": [
    "import tkinter as tk \n",
    "NUMBERS_OF_ROOMS = df[\"No. of Bedrooms\"].unique()\n",
    "ALL_AREAS = df['Area'].unique()\n",
    "columns_of_df = df.columns[3:-6]\n",
    "root = tk.Tk()\n",
    "\n",
    "def get_columns():\n",
    "    return columns_of_df\n",
    "\n",
    "\n",
    "OPTIONS = [\n",
    "\"Bangalore\",\n",
    "\"Chennai\",\n",
    "\"Delhi\",\n",
    "\"Hyderabad\",\n",
    "\"Kolkata\",\n",
    "\"Mumbai\"\n",
    "]\n",
    "\n",
    "rooms_n = tk.StringVar(root)\n",
    "rooms_n.set(NUMBERS_OF_ROOMS[0]) # default value\n",
    "\n",
    "area_n = tk.StringVar(root)\n",
    "area_n.set(ALL_AREAS[0]) # default value\n",
    "\n",
    "variable = tk.StringVar(root)\n",
    "variable.set(OPTIONS[0]) # default value\n",
    "\n",
    "frame = tk.Frame(root)\n",
    "frame.grid(row = 0, column = 0)\n",
    "\n",
    "def my_function():\n",
    "    columns_of_df = get_columns()\n",
    "    \n",
    "    \n",
    "    answers = list()\n",
    "    \n",
    "    room = rooms_n.get()\n",
    "    answers.append(room)\n",
    "    \n",
    "    area = area_n.get()\n",
    "    answers.append(area)\n",
    "    for i in columns_of_df:\n",
    "        try:\n",
    "            num = int(enstries[f\"{i}_ent\"].get())\n",
    "            if num > 1:\n",
    "                answers.append(1)\n",
    "            else:\n",
    "                answers.append(num)\n",
    "            \n",
    "        except:\n",
    "            answers.append(0)\n",
    "            \n",
    "    \n",
    "    columns_of_df = columns_of_df.insert(0,\"No. of Bedrooms\")\n",
    "    columns_of_df = columns_of_df.insert(0,\"Area\")\n",
    "    values = pd.DataFrame([answers],columns = columns_of_df)\n",
    "    \n",
    "    towns = pd.DataFrame([[0,0,0,0,0,0]],columns=['Town_Bangalore', 'Town_Chennai', 'Town_Delhi',\n",
    "       'Town_Hyderabad', 'Town_Kolkata', 'Town_Mumbai'])\n",
    "    towns_columns = towns.columns\n",
    "    town = variable.get()\n",
    "    town_col = [col for col in towns.columns if f'{town}' in col]\n",
    "    towns[town_col]=1\n",
    "    \n",
    "    df_merged = pd.concat([values, towns],axis=1, join=\"inner\")\n",
    "    print(answers)\n",
    "    print(towns.head())\n",
    "    print(len(answers))\n",
    "    print(df_merged.head())\n",
    "    \n",
    "    for widget in frame.winfo_children():\n",
    "        widget.destroy()\n",
    "        # this will clear frame and frame will be empty\n",
    "        # if you want to hide the empty panel then\n",
    "        frame.grid_forget()\n",
    "    price = model.predict(df_merged)\n",
    "    \n",
    "    df_elements = balls(int(price))\n",
    "    \n",
    "    room_label = tk.Label(root, text = f\"Цена вашей квартиры {price}\")\n",
    "    room_label.grid(row = 0, column = 0)\n",
    "    room_label_1 = tk.Label(root, text = f\"\")\n",
    "    room_label_1.grid(row = 0, column = 1)\n",
    "    \n",
    "    room_label_higher = tk.Label(root, text = f\"Рекомендованая квартира за цену выше\")\n",
    "    room_label_higher.grid(row = 1, column = 0)\n",
    "    room_label_higher_df = tk.Label(root, text = f\"{df_elements[0].head()}\")\n",
    "    room_label_higher_df.grid(row = 1, column = 1)\n",
    "    \n",
    "    room_label_same = tk.Label(root, text = f\"Рекомендованая квартира за цену ниже\")\n",
    "    room_label_same.grid(row = 2, column = 0)\n",
    "    room_label_same_df = tk.Label(root, text = f\"{df_elements[1].head()}\")\n",
    "    room_label_same_df.grid(row = 2, column = 1)\n",
    "    \n",
    "    room_label_lower = tk.Label(root, text = f\"Рекомендованая квартира за такую-же цену\")\n",
    "    room_label_lower.grid(row = 3, column = 0)\n",
    "    room_label_lower_df = tk.Label(root, text = f\"{df_elements[2].head()}\")\n",
    "    room_label_lower_df.grid(row = 3, column = 1)\n",
    "    \n",
    "    #do stuff with url_member\n",
    "rooms_labels = tk.Label(root, text = \"Rooms \")\n",
    "rooms_labels.grid(row = 0, column = 0)\n",
    "rooms_ent = tk.OptionMenu(root, rooms_n, *NUMBERS_OF_ROOMS)\n",
    "rooms_ent.grid(row = 0, column = 1)\n",
    "\n",
    "area_labels = tk.Label(root, text = \"Areas \")\n",
    "area_labels.grid(row = 1, column = 0)\n",
    "area_ent = tk.OptionMenu(root, area_n, *ALL_AREAS)\n",
    "area_ent.grid(row = 1, column = 1)\n",
    "\n",
    "row_n = 2\n",
    "enstries={}\n",
    "for i in columns_of_df:\n",
    "    enstries[i] = tk.Label(root, text = f\"{i}\")\n",
    "    enstries[i].grid(row = row_n, column = 0)\n",
    "    enstries[f\"{i}_ent\"] = tk.Entry(root)\n",
    "    enstries[f\"{i}_ent\"].grid(row = row_n, column = 1)\n",
    "\n",
    "    row_n +=1\n",
    "town_labels = tk.Label(root, text = \"towns \")\n",
    "town_labels.grid(row = row_n, column = 0)\n",
    "town_ent = tk.OptionMenu(root, variable, *OPTIONS)\n",
    "town_ent.grid(row = row_n, column = 1)\n",
    "\n",
    "my_button = tk.Button(root, text = \"Submit\", command = my_function)\n",
    "my_button.grid(row = row_n+2, column = 1)\n",
    "\n",
    "print(enstries)\n",
    "\n",
    "root.mainloop()"
   ]
  },
  {
   "cell_type": "code",
   "execution_count": null,
   "id": "8838c1ce-ba43-451e-b385-3c1b9b28e4ab",
   "metadata": {
    "tags": []
   },
   "outputs": [],
   "source": []
  },
  {
   "cell_type": "code",
   "execution_count": null,
   "id": "02688bc1-1f4d-4fc9-8c6a-4d3c401d1b89",
   "metadata": {},
   "outputs": [],
   "source": []
  }
 ],
 "metadata": {
  "kernelspec": {
   "display_name": "Python 3 (ipykernel)",
   "language": "python",
   "name": "python3"
  },
  "language_info": {
   "codemirror_mode": {
    "name": "ipython",
    "version": 3
   },
   "file_extension": ".py",
   "mimetype": "text/x-python",
   "name": "python",
   "nbconvert_exporter": "python",
   "pygments_lexer": "ipython3",
   "version": "3.11.8"
  }
 },
 "nbformat": 4,
 "nbformat_minor": 5
}
