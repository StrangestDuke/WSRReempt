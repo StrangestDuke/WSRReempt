{
 "cells": [
  {
   "cell_type": "code",
   "execution_count": 1,
   "id": "f0bafc60-aeca-4dcf-98aa-ea9d5739e79e",
   "metadata": {
    "tags": []
   },
   "outputs": [],
   "source": [
    "import os\n",
    "import pickle\n",
    "import pandas as pd\n",
    "import numpy as np\n",
    "import matplotlib.pyplot as plt\n",
    "import seaborn as sns\n",
    "\n",
    "from sklearn.preprocessing import MinMaxScaler\n",
    "from sklearn.preprocessing import OneHotEncoder\n",
    "from sklearn.model_selection import train_test_split\n",
    "from sklearn.cluster import KMeans\n",
    "\n",
    "from sklearn.linear_model import LinearRegression, LogisticRegression,Lasso\n",
    "from sklearn.ensemble import RandomForestClassifier\n",
    "from sklearn.tree import export_graphviz \n",
    "from sklearn.metrics import mean_squared_error, accuracy_score"
   ]
  },
  {
   "cell_type": "code",
   "execution_count": 2,
   "id": "34c05ca7-58c8-4c7d-ac9c-3b8b824f63eb",
   "metadata": {
    "tags": []
   },
   "outputs": [],
   "source": [
    "with open(\"../db/train_data_unp.pkl\", 'rb') as f:\n",
    "    df = pickle.load(f)"
   ]
  },
  {
   "cell_type": "code",
   "execution_count": 3,
   "id": "cf4343eb-433d-496a-a94b-f04c4d79eae1",
   "metadata": {
    "tags": []
   },
   "outputs": [
    {
     "name": "stdout",
     "output_type": "stream",
     "text": [
      "<class 'pandas.core.frame.DataFrame'>\n",
      "Index: 10093 entries, 0 to 26641\n",
      "Data columns (total 41 columns):\n",
      " #   Column               Non-Null Count  Dtype \n",
      "---  ------               --------------  ----- \n",
      " 0   Price                10093 non-null  int64 \n",
      " 1   Area                 10093 non-null  int64 \n",
      " 2   Location             10093 non-null  object\n",
      " 3   No. of Bedrooms      10093 non-null  int64 \n",
      " 4   Resale               10093 non-null  int64 \n",
      " 5   MaintenanceStaff     10093 non-null  int64 \n",
      " 6   Gymnasium            10093 non-null  int64 \n",
      " 7   SwimmingPool         10093 non-null  int64 \n",
      " 8   LandscapedGardens    10093 non-null  int64 \n",
      " 9   JoggingTrack         10093 non-null  int64 \n",
      " 10  RainWaterHarvesting  10093 non-null  int64 \n",
      " 11  IndoorGames          10093 non-null  int64 \n",
      " 12  ShoppingMall         10093 non-null  int64 \n",
      " 13  Intercom             10093 non-null  int64 \n",
      " 14  SportsFacility       10093 non-null  int64 \n",
      " 15  ATM                  10093 non-null  int64 \n",
      " 16  ClubHouse            10093 non-null  int64 \n",
      " 17  School               10093 non-null  int64 \n",
      " 18  24X7Security         10093 non-null  int64 \n",
      " 19  PowerBackup          10093 non-null  int64 \n",
      " 20  CarParking           10093 non-null  int64 \n",
      " 21  StaffQuarter         10093 non-null  int64 \n",
      " 22  Cafeteria            10093 non-null  int64 \n",
      " 23  MultipurposeRoom     10093 non-null  int64 \n",
      " 24  Hospital             10093 non-null  int64 \n",
      " 25  WashingMachine       10093 non-null  int64 \n",
      " 26  Gasconnection        10093 non-null  int64 \n",
      " 27  AC                   10093 non-null  int64 \n",
      " 28  Wifi                 10093 non-null  int64 \n",
      " 29  Children'splayarea   10093 non-null  int64 \n",
      " 30  LiftAvailable        10093 non-null  int64 \n",
      " 31  BED                  10093 non-null  int64 \n",
      " 32  VaastuCompliant      10093 non-null  int64 \n",
      " 33  Microwave            10093 non-null  int64 \n",
      " 34  GolfCourse           10093 non-null  int64 \n",
      " 35  TV                   10093 non-null  int64 \n",
      " 36  DiningTable          10093 non-null  int64 \n",
      " 37  Sofa                 10093 non-null  int64 \n",
      " 38  Wardrobe             10093 non-null  int64 \n",
      " 39  Stadium              10093 non-null  int64 \n",
      " 40  Town                 10093 non-null  object\n",
      "dtypes: int64(39), object(2)\n",
      "memory usage: 3.2+ MB\n"
     ]
    }
   ],
   "source": [
    "df.info()"
   ]
  },
  {
   "cell_type": "code",
   "execution_count": 4,
   "id": "33f69c03-c691-455f-b9ab-b3c0f7ef7dbd",
   "metadata": {
    "tags": []
   },
   "outputs": [],
   "source": [
    "df.drop('Location', inplace=True,axis=1)\n",
    "targets = df['Price']"
   ]
  },
  {
   "cell_type": "markdown",
   "id": "33d0e540-f727-43ed-82c7-3070fa69f26c",
   "metadata": {},
   "source": [
    "Из ныне колонок что мы имеем нам следует убрать из тренировочного датасета цену, т.к. она является целью тренировки модели и дальнейшей работы, которая будет проведена.\n",
    "\n",
    "Большинство из параметров в датасете уже онехотнута. Только локация вызывает некоторые опасения, ибо из-за этого параметра модель может начать заучивать места, а не обучаться, Но ещё проблема в том"
   ]
  },
  {
   "cell_type": "code",
   "execution_count": 5,
   "id": "4a605bf0-4333-481a-94c9-f4509424e8b4",
   "metadata": {
    "tags": []
   },
   "outputs": [
    {
     "name": "stderr",
     "output_type": "stream",
     "text": [
      "C:\\Users\\Strange\\anaconda3\\Lib\\site-packages\\sklearn\\preprocessing\\_encoders.py:868: FutureWarning: `sparse` was renamed to `sparse_output` in version 1.2 and will be removed in 1.4. `sparse_output` is ignored unless you leave `sparse` to its default value.\n",
      "  warnings.warn(\n"
     ]
    }
   ],
   "source": [
    "categorical_cols = df.select_dtypes('object').columns.tolist()\n",
    "encoder = OneHotEncoder(sparse_output=False,drop = None,\n",
    "                        dtype = np.float64,\n",
    "                        handle_unknown='ignore', sparse=False)\n",
    "\n",
    "encoder.fit(df[categorical_cols])\n",
    "encoded_cols = list(encoder.get_feature_names_out(categorical_cols))\n",
    "df[encoded_cols] = encoder.transform(df[categorical_cols])\n"
   ]
  },
  {
   "cell_type": "code",
   "execution_count": 6,
   "id": "e89f3572-e047-4341-ae7a-d1c7080f70ef",
   "metadata": {
    "tags": []
   },
   "outputs": [],
   "source": [
    "df.drop('Town', inplace=True,axis=1)"
   ]
  },
  {
   "cell_type": "code",
   "execution_count": 7,
   "id": "0cb96a72-6f39-445f-9e4d-cd60f566f426",
   "metadata": {},
   "outputs": [
    {
     "name": "stderr",
     "output_type": "stream",
     "text": [
      "C:\\Users\\Strange\\anaconda3\\Lib\\site-packages\\sklearn\\cluster\\_kmeans.py:870: FutureWarning: The default value of `n_init` will change from 10 to 'auto' in 1.4. Set the value of `n_init` explicitly to suppress the warning\n",
      "  warnings.warn(\n",
      "C:\\Users\\Strange\\anaconda3\\Lib\\site-packages\\sklearn\\cluster\\_kmeans.py:870: FutureWarning: The default value of `n_init` will change from 10 to 'auto' in 1.4. Set the value of `n_init` explicitly to suppress the warning\n",
      "  warnings.warn(\n",
      "C:\\Users\\Strange\\anaconda3\\Lib\\site-packages\\sklearn\\cluster\\_kmeans.py:870: FutureWarning: The default value of `n_init` will change from 10 to 'auto' in 1.4. Set the value of `n_init` explicitly to suppress the warning\n",
      "  warnings.warn(\n",
      "C:\\Users\\Strange\\anaconda3\\Lib\\site-packages\\sklearn\\cluster\\_kmeans.py:870: FutureWarning: The default value of `n_init` will change from 10 to 'auto' in 1.4. Set the value of `n_init` explicitly to suppress the warning\n",
      "  warnings.warn(\n",
      "C:\\Users\\Strange\\anaconda3\\Lib\\site-packages\\sklearn\\cluster\\_kmeans.py:870: FutureWarning: The default value of `n_init` will change from 10 to 'auto' in 1.4. Set the value of `n_init` explicitly to suppress the warning\n",
      "  warnings.warn(\n",
      "C:\\Users\\Strange\\anaconda3\\Lib\\site-packages\\sklearn\\cluster\\_kmeans.py:870: FutureWarning: The default value of `n_init` will change from 10 to 'auto' in 1.4. Set the value of `n_init` explicitly to suppress the warning\n",
      "  warnings.warn(\n",
      "C:\\Users\\Strange\\anaconda3\\Lib\\site-packages\\sklearn\\cluster\\_kmeans.py:870: FutureWarning: The default value of `n_init` will change from 10 to 'auto' in 1.4. Set the value of `n_init` explicitly to suppress the warning\n",
      "  warnings.warn(\n",
      "C:\\Users\\Strange\\anaconda3\\Lib\\site-packages\\sklearn\\cluster\\_kmeans.py:870: FutureWarning: The default value of `n_init` will change from 10 to 'auto' in 1.4. Set the value of `n_init` explicitly to suppress the warning\n",
      "  warnings.warn(\n",
      "C:\\Users\\Strange\\anaconda3\\Lib\\site-packages\\sklearn\\cluster\\_kmeans.py:870: FutureWarning: The default value of `n_init` will change from 10 to 'auto' in 1.4. Set the value of `n_init` explicitly to suppress the warning\n",
      "  warnings.warn(\n",
      "C:\\Users\\Strange\\anaconda3\\Lib\\site-packages\\sklearn\\cluster\\_kmeans.py:870: FutureWarning: The default value of `n_init` will change from 10 to 'auto' in 1.4. Set the value of `n_init` explicitly to suppress the warning\n",
      "  warnings.warn(\n"
     ]
    },
    {
     "data": {
      "image/png": "[encoded data removed]",
      "text/plain": [
       "<Figure size 640x480 with 1 Axes>"
      ]
     },
     "metadata": {},
     "output_type": "display_data"
    }
   ],
   "source": [
    "\n",
    "cost =[]\n",
    "for i in range(1, 11):\n",
    "    KM = KMeans(n_clusters = i, max_iter = 500)\n",
    "    KM.fit(df)\n",
    "\n",
    "    # calculates squared error\n",
    "    # for the clustered points\n",
    "    cost.append(KM.inertia_)\n",
    "\n",
    "# plot the cost against K values\n",
    "plt.plot(range(1, 11), cost, color ='g', linewidth ='3')\n",
    "plt.xlabel(\"Value of K\")\n",
    "plt.ylabel(\"Squared Error (Cost)\")\n",
    "plt.grid()\n",
    "plt.show() # clear the plot\n",
    "\n",
    "# the point of the elbow is the \n",
    "# most optimal value for choosing k\n"
   ]
  },
  {
   "cell_type": "code",
   "execution_count": 8,
   "id": "498c2053-c58d-4caa-9d46-ea099393d75c",
   "metadata": {
    "tags": []
   },
   "outputs": [
    {
     "name": "stderr",
     "output_type": "stream",
     "text": [
      "C:\\Users\\Strange\\anaconda3\\Lib\\site-packages\\sklearn\\cluster\\_kmeans.py:870: FutureWarning: The default value of `n_init` will change from 10 to 'auto' in 1.4. Set the value of `n_init` explicitly to suppress the warning\n",
      "  warnings.warn(\n"
     ]
    }
   ],
   "source": [
    "kmeans=KMeans(n_clusters=5, max_iter=500)\n",
    "kmeans.fit(df)\n",
    "predict=kmeans.predict(df)\n",
    "df['KMeans5'] = pd.Series(predict, index=df.index)"
   ]
  },
  {
   "cell_type": "code",
   "execution_count": 9,
   "id": "1dc740ad-3f64-4447-8926-b5fc8c8a1bbe",
   "metadata": {
    "tags": []
   },
   "outputs": [],
   "source": [
    "with open('../db/clusterization.pkl', 'wb') as f:\n",
    "    pickle.dump(kmeans,f)"
   ]
  },
  {
   "cell_type": "code",
   "execution_count": 10,
   "id": "597abdcc-5120-4c16-b595-b53d4927354e",
   "metadata": {
    "tags": []
   },
   "outputs": [
    {
     "data": {
      "text/html": [
       "<div>\n",
       "<style scoped>\n",
       "    .dataframe tbody tr th:only-of-type {\n",
       "        vertical-align: middle;\n",
       "    }\n",
       "\n",
       "    .dataframe tbody tr th {\n",
       "        vertical-align: top;\n",
       "    }\n",
       "\n",
       "    .dataframe thead th {\n",
       "        text-align: right;\n",
       "    }\n",
       "</style>\n",
       "<table border=\"1\" class=\"dataframe\">\n",
       "  <thead>\n",
       "    <tr style=\"text-align: right;\">\n",
       "      <th></th>\n",
       "      <th>Price</th>\n",
       "      <th>Area</th>\n",
       "      <th>No. of Bedrooms</th>\n",
       "      <th>Resale</th>\n",
       "      <th>MaintenanceStaff</th>\n",
       "      <th>Gymnasium</th>\n",
       "      <th>SwimmingPool</th>\n",
       "      <th>LandscapedGardens</th>\n",
       "      <th>JoggingTrack</th>\n",
       "      <th>RainWaterHarvesting</th>\n",
       "      <th>...</th>\n",
       "      <th>Sofa</th>\n",
       "      <th>Wardrobe</th>\n",
       "      <th>Stadium</th>\n",
       "      <th>Town_Bangalore</th>\n",
       "      <th>Town_Chennai</th>\n",
       "      <th>Town_Delhi</th>\n",
       "      <th>Town_Hyderabad</th>\n",
       "      <th>Town_Kolkata</th>\n",
       "      <th>Town_Mumbai</th>\n",
       "      <th>KMeans5</th>\n",
       "    </tr>\n",
       "  </thead>\n",
       "  <tbody>\n",
       "    <tr>\n",
       "      <th>0</th>\n",
       "      <td>30000000</td>\n",
       "      <td>3340</td>\n",
       "      <td>4</td>\n",
       "      <td>0</td>\n",
       "      <td>1</td>\n",
       "      <td>1</td>\n",
       "      <td>1</td>\n",
       "      <td>1</td>\n",
       "      <td>1</td>\n",
       "      <td>1</td>\n",
       "      <td>...</td>\n",
       "      <td>0</td>\n",
       "      <td>0</td>\n",
       "      <td>0</td>\n",
       "      <td>1.0</td>\n",
       "      <td>0.0</td>\n",
       "      <td>0.0</td>\n",
       "      <td>0.0</td>\n",
       "      <td>0.0</td>\n",
       "      <td>0.0</td>\n",
       "      <td>0</td>\n",
       "    </tr>\n",
       "    <tr>\n",
       "      <th>1</th>\n",
       "      <td>7888000</td>\n",
       "      <td>1045</td>\n",
       "      <td>2</td>\n",
       "      <td>0</td>\n",
       "      <td>0</td>\n",
       "      <td>1</td>\n",
       "      <td>1</td>\n",
       "      <td>1</td>\n",
       "      <td>1</td>\n",
       "      <td>1</td>\n",
       "      <td>...</td>\n",
       "      <td>0</td>\n",
       "      <td>0</td>\n",
       "      <td>0</td>\n",
       "      <td>1.0</td>\n",
       "      <td>0.0</td>\n",
       "      <td>0.0</td>\n",
       "      <td>0.0</td>\n",
       "      <td>0.0</td>\n",
       "      <td>0.0</td>\n",
       "      <td>3</td>\n",
       "    </tr>\n",
       "    <tr>\n",
       "      <th>2</th>\n",
       "      <td>4866000</td>\n",
       "      <td>1179</td>\n",
       "      <td>2</td>\n",
       "      <td>0</td>\n",
       "      <td>0</td>\n",
       "      <td>1</td>\n",
       "      <td>1</td>\n",
       "      <td>1</td>\n",
       "      <td>1</td>\n",
       "      <td>1</td>\n",
       "      <td>...</td>\n",
       "      <td>0</td>\n",
       "      <td>0</td>\n",
       "      <td>0</td>\n",
       "      <td>1.0</td>\n",
       "      <td>0.0</td>\n",
       "      <td>0.0</td>\n",
       "      <td>0.0</td>\n",
       "      <td>0.0</td>\n",
       "      <td>0.0</td>\n",
       "      <td>3</td>\n",
       "    </tr>\n",
       "    <tr>\n",
       "      <th>3</th>\n",
       "      <td>8358000</td>\n",
       "      <td>1675</td>\n",
       "      <td>3</td>\n",
       "      <td>0</td>\n",
       "      <td>0</td>\n",
       "      <td>0</td>\n",
       "      <td>0</td>\n",
       "      <td>0</td>\n",
       "      <td>0</td>\n",
       "      <td>0</td>\n",
       "      <td>...</td>\n",
       "      <td>0</td>\n",
       "      <td>0</td>\n",
       "      <td>0</td>\n",
       "      <td>1.0</td>\n",
       "      <td>0.0</td>\n",
       "      <td>0.0</td>\n",
       "      <td>0.0</td>\n",
       "      <td>0.0</td>\n",
       "      <td>0.0</td>\n",
       "      <td>3</td>\n",
       "    </tr>\n",
       "    <tr>\n",
       "      <th>4</th>\n",
       "      <td>6845000</td>\n",
       "      <td>1670</td>\n",
       "      <td>3</td>\n",
       "      <td>0</td>\n",
       "      <td>1</td>\n",
       "      <td>1</td>\n",
       "      <td>1</td>\n",
       "      <td>1</td>\n",
       "      <td>1</td>\n",
       "      <td>1</td>\n",
       "      <td>...</td>\n",
       "      <td>0</td>\n",
       "      <td>0</td>\n",
       "      <td>0</td>\n",
       "      <td>1.0</td>\n",
       "      <td>0.0</td>\n",
       "      <td>0.0</td>\n",
       "      <td>0.0</td>\n",
       "      <td>0.0</td>\n",
       "      <td>0.0</td>\n",
       "      <td>3</td>\n",
       "    </tr>\n",
       "  </tbody>\n",
       "</table>\n",
       "<p>5 rows × 46 columns</p>\n",
       "</div>"
      ],
      "text/plain": [
       "      Price  Area  No. of Bedrooms  Resale  MaintenanceStaff  Gymnasium  \\\n",
       "0  30000000  3340                4       0                 1          1   \n",
       "1   7888000  1045                2       0                 0          1   \n",
       "2   4866000  1179                2       0                 0          1   \n",
       "3   8358000  1675                3       0                 0          0   \n",
       "4   6845000  1670                3       0                 1          1   \n",
       "\n",
       "   SwimmingPool  LandscapedGardens  JoggingTrack  RainWaterHarvesting  ...  \\\n",
       "0             1                  1             1                    1  ...   \n",
       "1             1                  1             1                    1  ...   \n",
       "2             1                  1             1                    1  ...   \n",
       "3             0                  0             0                    0  ...   \n",
       "4             1                  1             1                    1  ...   \n",
       "\n",
       "   Sofa  Wardrobe  Stadium  Town_Bangalore  Town_Chennai  Town_Delhi  \\\n",
       "0     0         0        0             1.0           0.0         0.0   \n",
       "1     0         0        0             1.0           0.0         0.0   \n",
       "2     0         0        0             1.0           0.0         0.0   \n",
       "3     0         0        0             1.0           0.0         0.0   \n",
       "4     0         0        0             1.0           0.0         0.0   \n",
       "\n",
       "   Town_Hyderabad  Town_Kolkata  Town_Mumbai  KMeans5  \n",
       "0             0.0           0.0          0.0        0  \n",
       "1             0.0           0.0          0.0        3  \n",
       "2             0.0           0.0          0.0        3  \n",
       "3             0.0           0.0          0.0        3  \n",
       "4             0.0           0.0          0.0        3  \n",
       "\n",
       "[5 rows x 46 columns]"
      ]
     },
     "execution_count": 10,
     "metadata": {},
     "output_type": "execute_result"
    }
   ],
   "source": [
    "df.head()"
   ]
  },
  {
   "cell_type": "code",
   "execution_count": 11,
   "id": "04c7d445-2a14-433f-b224-32ba2d8197dd",
   "metadata": {
    "tags": []
   },
   "outputs": [],
   "source": [
    "prices_by_clusters = df.groupby(['KMeans5','Area'])['Price'].mean()\n",
    "prices_by_clusters = df.reset_index()"
   ]
  },
  {
   "cell_type": "code",
   "execution_count": 12,
   "id": "fd4009d8-f57b-4dd9-91f1-966b791b805e",
   "metadata": {
    "tags": []
   },
   "outputs": [
    {
     "name": "stdout",
     "output_type": "stream",
     "text": [
      "Cluster 0\n",
      "10 most cheap areas\n",
      "2282 mean price 12300000\n",
      "1300 mean price 12300000\n",
      "2285 mean price 12300000\n",
      "1305 mean price 12300000\n",
      "1850 mean price 12300000\n",
      "1675 mean price 12300000\n",
      "1675 mean price 12300000\n",
      "1850 mean price 12300000\n",
      "1675 mean price 12300000\n",
      "1675 mean price 12300000\n",
      " \n",
      "10 most expesives areas\n",
      "2400 mean price 32500000\n",
      "3448 mean price 32500000\n",
      "1800 mean price 32500000\n",
      "2316 mean price 32500000\n",
      "997 mean price 32500000\n",
      "1800 mean price 32500000\n",
      "1200 mean price 32500000\n",
      "3250 mean price 32500000\n",
      "4290 mean price 32100000\n",
      "3180 mean price 32000000\n",
      " \n",
      "Cluster 3\n",
      "10 most cheap areas\n",
      "500 mean price 2000000\n",
      "275 mean price 2000000\n",
      "500 mean price 2000000\n",
      "275 mean price 2000000\n",
      "400 mean price 2000000\n",
      "275 mean price 2000000\n",
      "420 mean price 2000000\n",
      "450 mean price 2000000\n",
      "275 mean price 2000000\n",
      "495 mean price 2000000\n",
      " \n",
      "10 most expesives areas\n",
      "1885 mean price 12200000\n",
      "1740 mean price 12200000\n",
      "1740 mean price 12200000\n",
      "1944 mean price 12200000\n",
      "1691 mean price 12200000\n",
      "1850 mean price 12200000\n",
      "1850 mean price 12200000\n",
      "1825 mean price 12200000\n",
      "675 mean price 12200000\n",
      "1944 mean price 12200000\n",
      " \n",
      "Cluster 2\n",
      "10 most cheap areas\n",
      "4375 mean price 32799999\n",
      "780 mean price 32799999\n",
      "780 mean price 32799999\n",
      "3463 mean price 32900000\n",
      "2956 mean price 33000000\n",
      "2450 mean price 33000000\n",
      "1800 mean price 33000000\n",
      "1472 mean price 33000000\n",
      "4305 mean price 33000000\n",
      "1667 mean price 33000000\n",
      " \n",
      "10 most expesives areas\n",
      "2670 mean price 92500000\n",
      "5245 mean price 90000000\n",
      "3800 mean price 90000000\n",
      "3800 mean price 90000000\n",
      "1376 mean price 86500000\n",
      "1700 mean price 85000000\n",
      "2000 mean price 85000000\n",
      "1700 mean price 85000000\n",
      "2350 mean price 85000000\n",
      "1700 mean price 85000000\n",
      " \n",
      "Cluster 1\n",
      "10 most cheap areas\n",
      "2000 mean price 100000000\n",
      "2880 mean price 101400000\n",
      "3810 mean price 104700000\n",
      "2826 mean price 106000000\n",
      "2500 mean price 110000000\n",
      "2500 mean price 110000000\n",
      "3300 mean price 110000000\n",
      "1340 mean price 112500000\n",
      "4977 mean price 113400000\n",
      "3600 mean price 120000000\n",
      " \n",
      "10 most expesives areas\n",
      "9900 mean price 202700000\n",
      "3000 mean price 200000000\n",
      "9700 mean price 198600000\n",
      "7240 mean price 190000000\n",
      "8902 mean price 182300000\n",
      "2200 mean price 180000000\n",
      "1903 mean price 175000000\n",
      "8331 mean price 170600000\n",
      "8300 mean price 170000000\n",
      "2750 mean price 165000000\n",
      " \n",
      "Cluster 4\n",
      "10 most cheap areas\n",
      "5476 mean price 360000000\n",
      "5476 mean price 360000000\n",
      "5476 mean price 360000000\n",
      "3638 mean price 400000000\n",
      " \n",
      "10 most expesives areas\n",
      "3638 mean price 400000000\n",
      "5476 mean price 360000000\n",
      "5476 mean price 360000000\n",
      "5476 mean price 360000000\n",
      " \n"
     ]
    }
   ],
   "source": [
    "for i in prices_by_clusters['KMeans5'].unique():\n",
    "    prices_by_clusters.sort_values('Price', ascending=True,inplace=True)\n",
    "    print(f'Cluster {i}')\n",
    "    print(f'10 most cheap areas')\n",
    "    for h,d in zip(prices_by_clusters[prices_by_clusters['KMeans5']==i]['Area'].iloc[:10],\n",
    "                   prices_by_clusters[prices_by_clusters['KMeans5']==i]['Price'].iloc[:10]):\n",
    "        print(f'{h} mean price {d}')\n",
    "    print(' ')\n",
    "    prices_by_clusters.sort_values('Price', ascending=False,inplace=True)\n",
    "    print(f'10 most expesives areas')\n",
    "    for h,d in zip(prices_by_clusters[prices_by_clusters['KMeans5']==i]['Area'].iloc[:10],\n",
    "                   prices_by_clusters[prices_by_clusters['KMeans5']==i]['Price'].iloc[:10]):\n",
    "        print(f'{h} mean price {d}')\n",
    "    print(' ')"
   ]
  },
  {
   "cell_type": "markdown",
   "id": "64b258ff-e09c-478a-b0b7-98eebafed847",
   "metadata": {},
   "source": [
    "Прошла кластеризация и квартиры были распределены среди кластеров по средней стоимости."
   ]
  },
  {
   "cell_type": "code",
   "execution_count": 13,
   "id": "d786323e-fa0e-4e79-b5aa-d45fd3f341de",
   "metadata": {
    "tags": []
   },
   "outputs": [],
   "source": [
    "df.drop('KMeans5', inplace=True,axis=1)"
   ]
  },
  {
   "cell_type": "code",
   "execution_count": 14,
   "id": "13cbc7af-bec4-4034-a6ac-ab4baafee805",
   "metadata": {
    "tags": []
   },
   "outputs": [],
   "source": [
    "train_df, val_df = train_test_split(df, test_size=0.25,random_state=42)\n",
    "train_df, test_df = train_test_split(df, test_size=0.2,random_state=42)"
   ]
  },
  {
   "cell_type": "code",
   "execution_count": 15,
   "id": "a63c2934-ab85-4fa6-8fd4-052d25bb1b90",
   "metadata": {
    "tags": []
   },
   "outputs": [],
   "source": [
    "#Индексы обнуляются, дабы машина потом при обучении не сдохла, путаясь в индексах\n",
    "\n",
    "train_df.reset_index(drop=True, inplace=True)\n",
    "val_df.reset_index(drop=True, inplace=True)\n",
    "test_df.reset_index(drop=True, inplace=True)"
   ]
  },
  {
   "cell_type": "code",
   "execution_count": 16,
   "id": "ab3592ea-35ae-418c-af0b-91341e2f2f59",
   "metadata": {
    "tags": []
   },
   "outputs": [],
   "source": [
    "train_targets=train_df['Price'].copy()\n",
    "val_targets=val_df['Price'].copy()\n",
    "test_targets=test_df['Price'].copy()"
   ]
  },
  {
   "cell_type": "code",
   "execution_count": 17,
   "id": "1e702675-dfb5-4acd-be55-c32f6d461ecb",
   "metadata": {
    "tags": []
   },
   "outputs": [],
   "source": [
    "train_df.drop('Price', inplace=True,axis=1)\n",
    "val_df.drop('Price', inplace=True,axis=1)\n",
    "test_df.drop('Price', inplace=True,axis=1)"
   ]
  },
  {
   "cell_type": "code",
   "execution_count": 18,
   "id": "1cf9e946-fc76-42d6-852e-2126b5d0316b",
   "metadata": {
    "tags": []
   },
   "outputs": [],
   "source": [
    "#Создание базовых моделей\n",
    "\n",
    "def rand_min_max(min_n,max_n,ammount) -> pd.Series:\n",
    "    rand_numb = np.random.randint(min_n, high = max_n,size = ammount)\n",
    "    series = pd.Series(rand_numb)\n",
    "    return series\n",
    "\n",
    "def same_stuff(n,meany) -> pd.Series:\n",
    "    rand_numb = np.random.randint(meany, high = meany+1,size = n)\n",
    "    series = pd.Series(rand_numb)\n",
    "    return series"
   ]
  },
  {
   "cell_type": "code",
   "execution_count": 19,
   "id": "4edd8c6c-e27a-41ca-aba6-165624f79974",
   "metadata": {
    "tags": []
   },
   "outputs": [
    {
     "name": "stdout",
     "output_type": "stream",
     "text": [
      "<class 'pandas.core.series.Series'>\n",
      "RangeIndex: 2019 entries, 0 to 2018\n",
      "Series name: Price\n",
      "Non-Null Count  Dtype\n",
      "--------------  -----\n",
      "2019 non-null   int64\n",
      "dtypes: int64(1)\n",
      "memory usage: 15.9 KB\n"
     ]
    }
   ],
   "source": [
    "test_targets.info()"
   ]
  },
  {
   "cell_type": "code",
   "execution_count": 20,
   "id": "8a22d977-35bd-4df2-ae78-571c31070404",
   "metadata": {
    "tags": []
   },
   "outputs": [],
   "source": [
    "pred = rand_min_max(test_targets.min(),test_targets.max(),len(test_targets.index))\n",
    "pred_same = same_stuff(len(test_targets.index),test_targets.mean())"
   ]
  },
  {
   "cell_type": "code",
   "execution_count": 21,
   "id": "9eda9a5c-e3d2-476f-90f2-0d10c11555fe",
   "metadata": {
    "tags": []
   },
   "outputs": [
    {
     "name": "stdout",
     "output_type": "stream",
     "text": [
      "0.0\n",
      "0.0\n"
     ]
    }
   ],
   "source": [
    "print(accuracy_score(pred,test_targets))\n",
    "print(accuracy_score(pred_same,test_targets))"
   ]
  },
  {
   "cell_type": "code",
   "execution_count": 22,
   "id": "a5e19665-d8ad-4cfa-b8d7-c817c72ad6b3",
   "metadata": {
    "tags": []
   },
   "outputs": [],
   "source": [
    "def score_model(models):\n",
    "    for i in models:\n",
    "        print(f'{i}')\n",
    "        print(i.score(train_df, train_targets))\n",
    "        print(i.score(val_df, val_targets))\n",
    "        print(i.score(test_df, test_targets))\n",
    "        print(mean_squared_error(i.predict(train_df), train_targets))\n",
    "        print(mean_squared_error(i.predict(val_df), val_targets))\n",
    "        print(mean_squared_error(i.predict(test_df), test_targets))\n",
    "        print(' ')"
   ]
  },
  {
   "cell_type": "code",
   "execution_count": 23,
   "id": "0044db0f-f61e-490d-8e46-4f0636e67471",
   "metadata": {
    "tags": []
   },
   "outputs": [
    {
     "data": {
      "text/html": [
       "<style>#sk-container-id-1 {color: black;background-color: white;}#sk-container-id-1 pre{padding: 0;}#sk-container-id-1 div.sk-toggleable {background-color: white;}#sk-container-id-1 label.sk-toggleable__label {cursor: pointer;display: block;width: 100%;margin-bottom: 0;padding: 0.3em;box-sizing: border-box;text-align: center;}#sk-container-id-1 label.sk-toggleable__label-arrow:before {content: \"▸\";float: left;margin-right: 0.25em;color: #696969;}#sk-container-id-1 label.sk-toggleable__label-arrow:hover:before {color: black;}#sk-container-id-1 div.sk-estimator:hover label.sk-toggleable__label-arrow:before {color: black;}#sk-container-id-1 div.sk-toggleable__content {max-height: 0;max-width: 0;overflow: hidden;text-align: left;background-color: #f0f8ff;}#sk-container-id-1 div.sk-toggleable__content pre {margin: 0.2em;color: black;border-radius: 0.25em;background-color: #f0f8ff;}#sk-container-id-1 input.sk-toggleable__control:checked~div.sk-toggleable__content {max-height: 200px;max-width: 100%;overflow: auto;}#sk-container-id-1 input.sk-toggleable__control:checked~label.sk-toggleable__label-arrow:before {content: \"▾\";}#sk-container-id-1 div.sk-estimator input.sk-toggleable__control:checked~label.sk-toggleable__label {background-color: #d4ebff;}#sk-container-id-1 div.sk-label input.sk-toggleable__control:checked~label.sk-toggleable__label {background-color: #d4ebff;}#sk-container-id-1 input.sk-hidden--visually {border: 0;clip: rect(1px 1px 1px 1px);clip: rect(1px, 1px, 1px, 1px);height: 1px;margin: -1px;overflow: hidden;padding: 0;position: absolute;width: 1px;}#sk-container-id-1 div.sk-estimator {font-family: monospace;background-color: #f0f8ff;border: 1px dotted black;border-radius: 0.25em;box-sizing: border-box;margin-bottom: 0.5em;}#sk-container-id-1 div.sk-estimator:hover {background-color: #d4ebff;}#sk-container-id-1 div.sk-parallel-item::after {content: \"\";width: 100%;border-bottom: 1px solid gray;flex-grow: 1;}#sk-container-id-1 div.sk-label:hover label.sk-toggleable__label {background-color: #d4ebff;}#sk-container-id-1 div.sk-serial::before {content: \"\";position: absolute;border-left: 1px solid gray;box-sizing: border-box;top: 0;bottom: 0;left: 50%;z-index: 0;}#sk-container-id-1 div.sk-serial {display: flex;flex-direction: column;align-items: center;background-color: white;padding-right: 0.2em;padding-left: 0.2em;position: relative;}#sk-container-id-1 div.sk-item {position: relative;z-index: 1;}#sk-container-id-1 div.sk-parallel {display: flex;align-items: stretch;justify-content: center;background-color: white;position: relative;}#sk-container-id-1 div.sk-item::before, #sk-container-id-1 div.sk-parallel-item::before {content: \"\";position: absolute;border-left: 1px solid gray;box-sizing: border-box;top: 0;bottom: 0;left: 50%;z-index: -1;}#sk-container-id-1 div.sk-parallel-item {display: flex;flex-direction: column;z-index: 1;position: relative;background-color: white;}#sk-container-id-1 div.sk-parallel-item:first-child::after {align-self: flex-end;width: 50%;}#sk-container-id-1 div.sk-parallel-item:last-child::after {align-self: flex-start;width: 50%;}#sk-container-id-1 div.sk-parallel-item:only-child::after {width: 0;}#sk-container-id-1 div.sk-dashed-wrapped {border: 1px dashed gray;margin: 0 0.4em 0.5em 0.4em;box-sizing: border-box;padding-bottom: 0.4em;background-color: white;}#sk-container-id-1 div.sk-label label {font-family: monospace;font-weight: bold;display: inline-block;line-height: 1.2em;}#sk-container-id-1 div.sk-label-container {text-align: center;}#sk-container-id-1 div.sk-container {/* jupyter's `normalize.less` sets `[hidden] { display: none; }` but bootstrap.min.css set `[hidden] { display: none !important; }` so we also need the `!important` here to be able to override the default hidden behavior on the sphinx rendered scikit-learn.org. See: https://github.com/scikit-learn/scikit-learn/issues/21755 */display: inline-block !important;position: relative;}#sk-container-id-1 div.sk-text-repr-fallback {display: none;}</style><div id=\"sk-container-id-1\" class=\"sk-top-container\"><div class=\"sk-text-repr-fallback\"><pre>LinearRegression()</pre><b>In a Jupyter environment, please rerun this cell to show the HTML representation or trust the notebook. <br />On GitHub, the HTML representation is unable to render, please try loading this page with nbviewer.org.</b></div><div class=\"sk-container\" hidden><div class=\"sk-item\"><div class=\"sk-estimator sk-toggleable\"><input class=\"sk-toggleable__control sk-hidden--visually\" id=\"sk-estimator-id-1\" type=\"checkbox\" checked><label for=\"sk-estimator-id-1\" class=\"sk-toggleable__label sk-toggleable__label-arrow\">LinearRegression</label><div class=\"sk-toggleable__content\"><pre>LinearRegression()</pre></div></div></div></div></div>"
      ],
      "text/plain": [
       "LinearRegression()"
      ]
     },
     "execution_count": 23,
     "metadata": {},
     "output_type": "execute_result"
    }
   ],
   "source": [
    "lr = LinearRegression()\n",
    "lr.fit(train_df, train_targets)"
   ]
  },
  {
   "cell_type": "code",
   "execution_count": 24,
   "id": "b7ceddc5-f8c3-4333-ab8b-b5c18a0fe0ca",
   "metadata": {
    "tags": []
   },
   "outputs": [
    {
     "name": "stderr",
     "output_type": "stream",
     "text": [
      "C:\\Users\\Strange\\anaconda3\\Lib\\site-packages\\sklearn\\linear_model\\_coordinate_descent.py:631: ConvergenceWarning: Objective did not converge. You might want to increase the number of iterations, check the scale of the features or consider increasing regularisation. Duality gap: 2.571e+16, tolerance: 1.503e+14\n",
      "  model = cd_fast.enet_coordinate_descent(\n"
     ]
    },
    {
     "data": {
      "text/html": [
       "<style>#sk-container-id-2 {color: black;background-color: white;}#sk-container-id-2 pre{padding: 0;}#sk-container-id-2 div.sk-toggleable {background-color: white;}#sk-container-id-2 label.sk-toggleable__label {cursor: pointer;display: block;width: 100%;margin-bottom: 0;padding: 0.3em;box-sizing: border-box;text-align: center;}#sk-container-id-2 label.sk-toggleable__label-arrow:before {content: \"▸\";float: left;margin-right: 0.25em;color: #696969;}#sk-container-id-2 label.sk-toggleable__label-arrow:hover:before {color: black;}#sk-container-id-2 div.sk-estimator:hover label.sk-toggleable__label-arrow:before {color: black;}#sk-container-id-2 div.sk-toggleable__content {max-height: 0;max-width: 0;overflow: hidden;text-align: left;background-color: #f0f8ff;}#sk-container-id-2 div.sk-toggleable__content pre {margin: 0.2em;color: black;border-radius: 0.25em;background-color: #f0f8ff;}#sk-container-id-2 input.sk-toggleable__control:checked~div.sk-toggleable__content {max-height: 200px;max-width: 100%;overflow: auto;}#sk-container-id-2 input.sk-toggleable__control:checked~label.sk-toggleable__label-arrow:before {content: \"▾\";}#sk-container-id-2 div.sk-estimator input.sk-toggleable__control:checked~label.sk-toggleable__label {background-color: #d4ebff;}#sk-container-id-2 div.sk-label input.sk-toggleable__control:checked~label.sk-toggleable__label {background-color: #d4ebff;}#sk-container-id-2 input.sk-hidden--visually {border: 0;clip: rect(1px 1px 1px 1px);clip: rect(1px, 1px, 1px, 1px);height: 1px;margin: -1px;overflow: hidden;padding: 0;position: absolute;width: 1px;}#sk-container-id-2 div.sk-estimator {font-family: monospace;background-color: #f0f8ff;border: 1px dotted black;border-radius: 0.25em;box-sizing: border-box;margin-bottom: 0.5em;}#sk-container-id-2 div.sk-estimator:hover {background-color: #d4ebff;}#sk-container-id-2 div.sk-parallel-item::after {content: \"\";width: 100%;border-bottom: 1px solid gray;flex-grow: 1;}#sk-container-id-2 div.sk-label:hover label.sk-toggleable__label {background-color: #d4ebff;}#sk-container-id-2 div.sk-serial::before {content: \"\";position: absolute;border-left: 1px solid gray;box-sizing: border-box;top: 0;bottom: 0;left: 50%;z-index: 0;}#sk-container-id-2 div.sk-serial {display: flex;flex-direction: column;align-items: center;background-color: white;padding-right: 0.2em;padding-left: 0.2em;position: relative;}#sk-container-id-2 div.sk-item {position: relative;z-index: 1;}#sk-container-id-2 div.sk-parallel {display: flex;align-items: stretch;justify-content: center;background-color: white;position: relative;}#sk-container-id-2 div.sk-item::before, #sk-container-id-2 div.sk-parallel-item::before {content: \"\";position: absolute;border-left: 1px solid gray;box-sizing: border-box;top: 0;bottom: 0;left: 50%;z-index: -1;}#sk-container-id-2 div.sk-parallel-item {display: flex;flex-direction: column;z-index: 1;position: relative;background-color: white;}#sk-container-id-2 div.sk-parallel-item:first-child::after {align-self: flex-end;width: 50%;}#sk-container-id-2 div.sk-parallel-item:last-child::after {align-self: flex-start;width: 50%;}#sk-container-id-2 div.sk-parallel-item:only-child::after {width: 0;}#sk-container-id-2 div.sk-dashed-wrapped {border: 1px dashed gray;margin: 0 0.4em 0.5em 0.4em;box-sizing: border-box;padding-bottom: 0.4em;background-color: white;}#sk-container-id-2 div.sk-label label {font-family: monospace;font-weight: bold;display: inline-block;line-height: 1.2em;}#sk-container-id-2 div.sk-label-container {text-align: center;}#sk-container-id-2 div.sk-container {/* jupyter's `normalize.less` sets `[hidden] { display: none; }` but bootstrap.min.css set `[hidden] { display: none !important; }` so we also need the `!important` here to be able to override the default hidden behavior on the sphinx rendered scikit-learn.org. See: https://github.com/scikit-learn/scikit-learn/issues/21755 */display: inline-block !important;position: relative;}#sk-container-id-2 div.sk-text-repr-fallback {display: none;}</style><div id=\"sk-container-id-2\" class=\"sk-top-container\"><div class=\"sk-text-repr-fallback\"><pre>Lasso(random_state=42)</pre><b>In a Jupyter environment, please rerun this cell to show the HTML representation or trust the notebook. <br />On GitHub, the HTML representation is unable to render, please try loading this page with nbviewer.org.</b></div><div class=\"sk-container\" hidden><div class=\"sk-item\"><div class=\"sk-estimator sk-toggleable\"><input class=\"sk-toggleable__control sk-hidden--visually\" id=\"sk-estimator-id-2\" type=\"checkbox\" checked><label for=\"sk-estimator-id-2\" class=\"sk-toggleable__label sk-toggleable__label-arrow\">Lasso</label><div class=\"sk-toggleable__content\"><pre>Lasso(random_state=42)</pre></div></div></div></div></div>"
      ],
      "text/plain": [
       "Lasso(random_state=42)"
      ]
     },
     "execution_count": 24,
     "metadata": {},
     "output_type": "execute_result"
    }
   ],
   "source": [
    "ls=Lasso(random_state=42)\n",
    "ls.fit(train_df,train_targets)"
   ]
  },
  {
   "cell_type": "code",
   "execution_count": 25,
   "id": "77056682-be4c-4616-8a70-37e57d9faaf4",
   "metadata": {
    "tags": []
   },
   "outputs": [
    {
     "name": "stderr",
     "output_type": "stream",
     "text": [
      "C:\\Users\\Strange\\anaconda3\\Lib\\site-packages\\sklearn\\linear_model\\_logistic.py:458: ConvergenceWarning: lbfgs failed to converge (status=1):\n",
      "STOP: TOTAL NO. of ITERATIONS REACHED LIMIT.\n",
      "\n",
      "Increase the number of iterations (max_iter) or scale the data as shown in:\n",
      "    https://scikit-learn.org/stable/modules/preprocessing.html\n",
      "Please also refer to the documentation for alternative solver options:\n",
      "    https://scikit-learn.org/stable/modules/linear_model.html#logistic-regression\n",
      "  n_iter_i = _check_optimize_result(\n"
     ]
    },
    {
     "data": {
      "text/html": [
       "<style>#sk-container-id-3 {color: black;background-color: white;}#sk-container-id-3 pre{padding: 0;}#sk-container-id-3 div.sk-toggleable {background-color: white;}#sk-container-id-3 label.sk-toggleable__label {cursor: pointer;display: block;width: 100%;margin-bottom: 0;padding: 0.3em;box-sizing: border-box;text-align: center;}#sk-container-id-3 label.sk-toggleable__label-arrow:before {content: \"▸\";float: left;margin-right: 0.25em;color: #696969;}#sk-container-id-3 label.sk-toggleable__label-arrow:hover:before {color: black;}#sk-container-id-3 div.sk-estimator:hover label.sk-toggleable__label-arrow:before {color: black;}#sk-container-id-3 div.sk-toggleable__content {max-height: 0;max-width: 0;overflow: hidden;text-align: left;background-color: #f0f8ff;}#sk-container-id-3 div.sk-toggleable__content pre {margin: 0.2em;color: black;border-radius: 0.25em;background-color: #f0f8ff;}#sk-container-id-3 input.sk-toggleable__control:checked~div.sk-toggleable__content {max-height: 200px;max-width: 100%;overflow: auto;}#sk-container-id-3 input.sk-toggleable__control:checked~label.sk-toggleable__label-arrow:before {content: \"▾\";}#sk-container-id-3 div.sk-estimator input.sk-toggleable__control:checked~label.sk-toggleable__label {background-color: #d4ebff;}#sk-container-id-3 div.sk-label input.sk-toggleable__control:checked~label.sk-toggleable__label {background-color: #d4ebff;}#sk-container-id-3 input.sk-hidden--visually {border: 0;clip: rect(1px 1px 1px 1px);clip: rect(1px, 1px, 1px, 1px);height: 1px;margin: -1px;overflow: hidden;padding: 0;position: absolute;width: 1px;}#sk-container-id-3 div.sk-estimator {font-family: monospace;background-color: #f0f8ff;border: 1px dotted black;border-radius: 0.25em;box-sizing: border-box;margin-bottom: 0.5em;}#sk-container-id-3 div.sk-estimator:hover {background-color: #d4ebff;}#sk-container-id-3 div.sk-parallel-item::after {content: \"\";width: 100%;border-bottom: 1px solid gray;flex-grow: 1;}#sk-container-id-3 div.sk-label:hover label.sk-toggleable__label {background-color: #d4ebff;}#sk-container-id-3 div.sk-serial::before {content: \"\";position: absolute;border-left: 1px solid gray;box-sizing: border-box;top: 0;bottom: 0;left: 50%;z-index: 0;}#sk-container-id-3 div.sk-serial {display: flex;flex-direction: column;align-items: center;background-color: white;padding-right: 0.2em;padding-left: 0.2em;position: relative;}#sk-container-id-3 div.sk-item {position: relative;z-index: 1;}#sk-container-id-3 div.sk-parallel {display: flex;align-items: stretch;justify-content: center;background-color: white;position: relative;}#sk-container-id-3 div.sk-item::before, #sk-container-id-3 div.sk-parallel-item::before {content: \"\";position: absolute;border-left: 1px solid gray;box-sizing: border-box;top: 0;bottom: 0;left: 50%;z-index: -1;}#sk-container-id-3 div.sk-parallel-item {display: flex;flex-direction: column;z-index: 1;position: relative;background-color: white;}#sk-container-id-3 div.sk-parallel-item:first-child::after {align-self: flex-end;width: 50%;}#sk-container-id-3 div.sk-parallel-item:last-child::after {align-self: flex-start;width: 50%;}#sk-container-id-3 div.sk-parallel-item:only-child::after {width: 0;}#sk-container-id-3 div.sk-dashed-wrapped {border: 1px dashed gray;margin: 0 0.4em 0.5em 0.4em;box-sizing: border-box;padding-bottom: 0.4em;background-color: white;}#sk-container-id-3 div.sk-label label {font-family: monospace;font-weight: bold;display: inline-block;line-height: 1.2em;}#sk-container-id-3 div.sk-label-container {text-align: center;}#sk-container-id-3 div.sk-container {/* jupyter's `normalize.less` sets `[hidden] { display: none; }` but bootstrap.min.css set `[hidden] { display: none !important; }` so we also need the `!important` here to be able to override the default hidden behavior on the sphinx rendered scikit-learn.org. See: https://github.com/scikit-learn/scikit-learn/issues/21755 */display: inline-block !important;position: relative;}#sk-container-id-3 div.sk-text-repr-fallback {display: none;}</style><div id=\"sk-container-id-3\" class=\"sk-top-container\"><div class=\"sk-text-repr-fallback\"><pre>LogisticRegression(random_state=42)</pre><b>In a Jupyter environment, please rerun this cell to show the HTML representation or trust the notebook. <br />On GitHub, the HTML representation is unable to render, please try loading this page with nbviewer.org.</b></div><div class=\"sk-container\" hidden><div class=\"sk-item\"><div class=\"sk-estimator sk-toggleable\"><input class=\"sk-toggleable__control sk-hidden--visually\" id=\"sk-estimator-id-3\" type=\"checkbox\" checked><label for=\"sk-estimator-id-3\" class=\"sk-toggleable__label sk-toggleable__label-arrow\">LogisticRegression</label><div class=\"sk-toggleable__content\"><pre>LogisticRegression(random_state=42)</pre></div></div></div></div></div>"
      ],
      "text/plain": [
       "LogisticRegression(random_state=42)"
      ]
     },
     "execution_count": 25,
     "metadata": {},
     "output_type": "execute_result"
    }
   ],
   "source": [
    "lgr = LogisticRegression(random_state=42,max_iter=100)\n",
    "lgr.fit(train_df, train_targets)"
   ]
  },
  {
   "cell_type": "code",
   "execution_count": 26,
   "id": "0a49c0c8-aa5b-498f-b820-b52f52ea27d2",
   "metadata": {
    "tags": []
   },
   "outputs": [
    {
     "data": {
      "text/html": [
       "<style>#sk-container-id-4 {color: black;background-color: white;}#sk-container-id-4 pre{padding: 0;}#sk-container-id-4 div.sk-toggleable {background-color: white;}#sk-container-id-4 label.sk-toggleable__label {cursor: pointer;display: block;width: 100%;margin-bottom: 0;padding: 0.3em;box-sizing: border-box;text-align: center;}#sk-container-id-4 label.sk-toggleable__label-arrow:before {content: \"▸\";float: left;margin-right: 0.25em;color: #696969;}#sk-container-id-4 label.sk-toggleable__label-arrow:hover:before {color: black;}#sk-container-id-4 div.sk-estimator:hover label.sk-toggleable__label-arrow:before {color: black;}#sk-container-id-4 div.sk-toggleable__content {max-height: 0;max-width: 0;overflow: hidden;text-align: left;background-color: #f0f8ff;}#sk-container-id-4 div.sk-toggleable__content pre {margin: 0.2em;color: black;border-radius: 0.25em;background-color: #f0f8ff;}#sk-container-id-4 input.sk-toggleable__control:checked~div.sk-toggleable__content {max-height: 200px;max-width: 100%;overflow: auto;}#sk-container-id-4 input.sk-toggleable__control:checked~label.sk-toggleable__label-arrow:before {content: \"▾\";}#sk-container-id-4 div.sk-estimator input.sk-toggleable__control:checked~label.sk-toggleable__label {background-color: #d4ebff;}#sk-container-id-4 div.sk-label input.sk-toggleable__control:checked~label.sk-toggleable__label {background-color: #d4ebff;}#sk-container-id-4 input.sk-hidden--visually {border: 0;clip: rect(1px 1px 1px 1px);clip: rect(1px, 1px, 1px, 1px);height: 1px;margin: -1px;overflow: hidden;padding: 0;position: absolute;width: 1px;}#sk-container-id-4 div.sk-estimator {font-family: monospace;background-color: #f0f8ff;border: 1px dotted black;border-radius: 0.25em;box-sizing: border-box;margin-bottom: 0.5em;}#sk-container-id-4 div.sk-estimator:hover {background-color: #d4ebff;}#sk-container-id-4 div.sk-parallel-item::after {content: \"\";width: 100%;border-bottom: 1px solid gray;flex-grow: 1;}#sk-container-id-4 div.sk-label:hover label.sk-toggleable__label {background-color: #d4ebff;}#sk-container-id-4 div.sk-serial::before {content: \"\";position: absolute;border-left: 1px solid gray;box-sizing: border-box;top: 0;bottom: 0;left: 50%;z-index: 0;}#sk-container-id-4 div.sk-serial {display: flex;flex-direction: column;align-items: center;background-color: white;padding-right: 0.2em;padding-left: 0.2em;position: relative;}#sk-container-id-4 div.sk-item {position: relative;z-index: 1;}#sk-container-id-4 div.sk-parallel {display: flex;align-items: stretch;justify-content: center;background-color: white;position: relative;}#sk-container-id-4 div.sk-item::before, #sk-container-id-4 div.sk-parallel-item::before {content: \"\";position: absolute;border-left: 1px solid gray;box-sizing: border-box;top: 0;bottom: 0;left: 50%;z-index: -1;}#sk-container-id-4 div.sk-parallel-item {display: flex;flex-direction: column;z-index: 1;position: relative;background-color: white;}#sk-container-id-4 div.sk-parallel-item:first-child::after {align-self: flex-end;width: 50%;}#sk-container-id-4 div.sk-parallel-item:last-child::after {align-self: flex-start;width: 50%;}#sk-container-id-4 div.sk-parallel-item:only-child::after {width: 0;}#sk-container-id-4 div.sk-dashed-wrapped {border: 1px dashed gray;margin: 0 0.4em 0.5em 0.4em;box-sizing: border-box;padding-bottom: 0.4em;background-color: white;}#sk-container-id-4 div.sk-label label {font-family: monospace;font-weight: bold;display: inline-block;line-height: 1.2em;}#sk-container-id-4 div.sk-label-container {text-align: center;}#sk-container-id-4 div.sk-container {/* jupyter's `normalize.less` sets `[hidden] { display: none; }` but bootstrap.min.css set `[hidden] { display: none !important; }` so we also need the `!important` here to be able to override the default hidden behavior on the sphinx rendered scikit-learn.org. See: https://github.com/scikit-learn/scikit-learn/issues/21755 */display: inline-block !important;position: relative;}#sk-container-id-4 div.sk-text-repr-fallback {display: none;}</style><div id=\"sk-container-id-4\" class=\"sk-top-container\"><div class=\"sk-text-repr-fallback\"><pre>RandomForestClassifier(max_depth=20, min_impurity_decrease=5e-05,\n",
       "                       n_estimators=20, random_state=42)</pre><b>In a Jupyter environment, please rerun this cell to show the HTML representation or trust the notebook. <br />On GitHub, the HTML representation is unable to render, please try loading this page with nbviewer.org.</b></div><div class=\"sk-container\" hidden><div class=\"sk-item\"><div class=\"sk-estimator sk-toggleable\"><input class=\"sk-toggleable__control sk-hidden--visually\" id=\"sk-estimator-id-4\" type=\"checkbox\" checked><label for=\"sk-estimator-id-4\" class=\"sk-toggleable__label sk-toggleable__label-arrow\">RandomForestClassifier</label><div class=\"sk-toggleable__content\"><pre>RandomForestClassifier(max_depth=20, min_impurity_decrease=5e-05,\n",
       "                       n_estimators=20, random_state=42)</pre></div></div></div></div></div>"
      ],
      "text/plain": [
       "RandomForestClassifier(max_depth=20, min_impurity_decrease=5e-05,\n",
       "                       n_estimators=20, random_state=42)"
      ]
     },
     "execution_count": 26,
     "metadata": {},
     "output_type": "execute_result"
    }
   ],
   "source": [
    "rndf = RandomForestClassifier(n_estimators=20,random_state=42,max_depth=20,min_impurity_decrease=0.00005)\n",
    "rndf.fit(train_df, train_targets)"
   ]
  },
  {
   "cell_type": "code",
   "execution_count": 27,
   "id": "949668bc-333c-47df-8130-30f6a2741fed",
   "metadata": {
    "tags": []
   },
   "outputs": [
    {
     "name": "stdout",
     "output_type": "stream",
     "text": [
      "RandomForestClassifier(max_depth=20, min_impurity_decrease=5e-05,\n",
      "                       n_estimators=20, random_state=42)\n",
      "0.8476591528362646\n",
      "0.375594294770206\n",
      "0.2590391282813274\n",
      "1114153171642.073\n",
      "96481223024721.11\n",
      "120440923862275.4\n",
      " \n"
     ]
    }
   ],
   "source": [
    "score_model([rndf])"
   ]
  },
  {
   "cell_type": "code",
   "execution_count": 28,
   "id": "1af7b073-7dac-453f-a912-ef337a9ef1ee",
   "metadata": {
    "tags": []
   },
   "outputs": [
    {
     "name": "stdout",
     "output_type": "stream",
     "text": [
      "LinearRegression()\n",
      "0.5617157047901835\n",
      "0.4940780573068637\n",
      "0.44850290027499873\n",
      "81591278288947.98\n",
      "90687209056943.8\n",
      "99259738443152.48\n",
      " \n",
      "Lasso(random_state=42)\n",
      "0.5617157047790635\n",
      "0.494078514498535\n",
      "0.4485033701722697\n",
      "81591278291018.1\n",
      "90687127104703.39\n",
      "99259653869942.14\n",
      " \n",
      "LogisticRegression(random_state=42)\n",
      "0.009908347783007183\n",
      "0.009904912836767036\n",
      "0.009410599306587419\n",
      "206756284896290.84\n",
      "202658173913164.84\n",
      "205295334516988.62\n",
      " \n",
      "RandomForestClassifier(max_depth=20, min_impurity_decrease=5e-05,\n",
      "                       n_estimators=20, random_state=42)\n",
      "0.8476591528362646\n",
      "0.375594294770206\n",
      "0.2590391282813274\n",
      "1114153171642.073\n",
      "96481223024721.11\n",
      "120440923862275.4\n",
      " \n"
     ]
    }
   ],
   "source": [
    "score_model([lr,ls,lgr,rndf])"
   ]
  },
  {
   "cell_type": "code",
   "execution_count": 33,
   "id": "5f5828ea-cb75-4a83-9a6e-de0e9f99aac0",
   "metadata": {
    "tags": []
   },
   "outputs": [],
   "source": [
    "with open('../model/lasso.pkl', 'wb') as f:\n",
    "    pickle.dump(ls,f)"
   ]
  },
  {
   "cell_type": "code",
   "execution_count": 30,
   "id": "5b2443c3-3fa4-4bcc-a3d3-e99f99b74b09",
   "metadata": {},
   "outputs": [],
   "source": [
    "with open('../db/df.pkl', 'wb') as f:\n",
    "    pickle.dump(df,f)"
   ]
  },
  {
   "cell_type": "code",
   "execution_count": null,
   "id": "11e49530-a7c5-498d-8bcf-066ed1cd61c3",
   "metadata": {},
   "outputs": [],
   "source": []
  }
 ],
 "metadata": {
  "kernelspec": {
   "display_name": "Python 3 (ipykernel)",
   "language": "python",
   "name": "python3"
  },
  "language_info": {
   "codemirror_mode": {
    "name": "ipython",
    "version": 3
   },
   "file_extension": ".py",
   "mimetype": "text/x-python",
   "name": "python",
   "nbconvert_exporter": "python",
   "pygments_lexer": "ipython3",
   "version": "3.11.8"
  }
 },
 "nbformat": 4,
 "nbformat_minor": 5
}
